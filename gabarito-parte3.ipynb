{
 "cells": [
  {
   "cell_type": "markdown",
   "metadata": {},
   "source": [
    "# Parte 3 - Word Vectors\n",
    "\n",
    "### Importando os dados"
   ]
  },
  {
   "cell_type": "code",
   "execution_count": 1,
   "metadata": {},
   "outputs": [
    {
     "name": "stderr",
     "output_type": "stream",
     "text": [
      "INFO - 16:53:20: 'pattern' package not found; tag filters are not available for English\n"
     ]
    }
   ],
   "source": [
    "import pandas as pd\n",
    "import matplotlib.pyplot as plt\n",
    "import numpy as np\n",
    "import nltk \n",
    "from bs4 import BeautifulSoup\n",
    "import re\n",
    "from nltk.corpus import stopwords\n",
    "import logging\n",
    "logging.basicConfig(format=\"%(levelname)s - %(asctime)s: %(message)s\", datefmt= '%H:%M:%S', level=logging.INFO)\n",
    "import gensim"
   ]
  },
  {
   "cell_type": "markdown",
   "metadata": {},
   "source": [
    "Como já limpamos o texto anteriormente, aqui irei apenas importar o arquivo com os pré-processamentos feitos na primeira parte:"
   ]
  },
  {
   "cell_type": "code",
   "execution_count": 2,
   "metadata": {},
   "outputs": [],
   "source": [
    "#Importando os dados\n",
    "df = pd.read_csv('../gabarito/clean-imdb-reviews.csv', index_col=0)"
   ]
  },
  {
   "cell_type": "code",
   "execution_count": 3,
   "metadata": {},
   "outputs": [
    {
     "data": {
      "text/html": [
       "<div>\n",
       "<style scoped>\n",
       "    .dataframe tbody tr th:only-of-type {\n",
       "        vertical-align: middle;\n",
       "    }\n",
       "\n",
       "    .dataframe tbody tr th {\n",
       "        vertical-align: top;\n",
       "    }\n",
       "\n",
       "    .dataframe thead th {\n",
       "        text-align: right;\n",
       "    }\n",
       "</style>\n",
       "<table border=\"1\" class=\"dataframe\">\n",
       "  <thead>\n",
       "    <tr style=\"text-align: right;\">\n",
       "      <th></th>\n",
       "      <th>review</th>\n",
       "      <th>sentiment</th>\n",
       "      <th>clean_text</th>\n",
       "    </tr>\n",
       "  </thead>\n",
       "  <tbody>\n",
       "    <tr>\n",
       "      <th>0</th>\n",
       "      <td>One of the other reviewers has mentioned that ...</td>\n",
       "      <td>1</td>\n",
       "      <td>one reviewers mention watch oz episode hook ri...</td>\n",
       "    </tr>\n",
       "    <tr>\n",
       "      <th>1</th>\n",
       "      <td>A wonderful little production. &lt;br /&gt;&lt;br /&gt;The...</td>\n",
       "      <td>1</td>\n",
       "      <td>wonderful little production filming technique ...</td>\n",
       "    </tr>\n",
       "    <tr>\n",
       "      <th>2</th>\n",
       "      <td>I thought this was a wonderful way to spend ti...</td>\n",
       "      <td>1</td>\n",
       "      <td>think wonderful way spend time hot summer week...</td>\n",
       "    </tr>\n",
       "    <tr>\n",
       "      <th>3</th>\n",
       "      <td>Basically there's a family where a little boy ...</td>\n",
       "      <td>0</td>\n",
       "      <td>basically family little boy jake think zombie ...</td>\n",
       "    </tr>\n",
       "    <tr>\n",
       "      <th>4</th>\n",
       "      <td>Petter Mattei's \"Love in the Time of Money\" is...</td>\n",
       "      <td>1</td>\n",
       "      <td>petter mattei love time money visually stunnin...</td>\n",
       "    </tr>\n",
       "  </tbody>\n",
       "</table>\n",
       "</div>"
      ],
      "text/plain": [
       "                                              review  sentiment  \\\n",
       "0  One of the other reviewers has mentioned that ...          1   \n",
       "1  A wonderful little production. <br /><br />The...          1   \n",
       "2  I thought this was a wonderful way to spend ti...          1   \n",
       "3  Basically there's a family where a little boy ...          0   \n",
       "4  Petter Mattei's \"Love in the Time of Money\" is...          1   \n",
       "\n",
       "                                          clean_text  \n",
       "0  one reviewers mention watch oz episode hook ri...  \n",
       "1  wonderful little production filming technique ...  \n",
       "2  think wonderful way spend time hot summer week...  \n",
       "3  basically family little boy jake think zombie ...  \n",
       "4  petter mattei love time money visually stunnin...  "
      ]
     },
     "execution_count": 3,
     "metadata": {},
     "output_type": "execute_result"
    }
   ],
   "source": [
    "df.head()"
   ]
  },
  {
   "cell_type": "markdown",
   "metadata": {},
   "source": [
    "### Bigramas"
   ]
  },
  {
   "cell_type": "markdown",
   "metadata": {},
   "source": [
    "Preparando o input:"
   ]
  },
  {
   "cell_type": "code",
   "execution_count": 4,
   "metadata": {},
   "outputs": [],
   "source": [
    "sent = [row.split() for row in df.clean_text] #transforma em uma lista de listas"
   ]
  },
  {
   "cell_type": "code",
   "execution_count": 5,
   "metadata": {},
   "outputs": [
    {
     "name": "stderr",
     "output_type": "stream",
     "text": [
      "INFO - 16:53:22: collecting all words and their counts\n",
      "INFO - 16:53:22: PROGRESS: at sentence #0, processed 0 words and 0 word types\n",
      "INFO - 16:53:25: PROGRESS: at sentence #10000, processed 1182018 words and 811621 word types\n",
      "INFO - 16:53:28: PROGRESS: at sentence #20000, processed 2364665 words and 1427613 word types\n",
      "INFO - 16:53:31: PROGRESS: at sentence #30000, processed 3546171 words and 1975650 word types\n",
      "INFO - 16:53:34: PROGRESS: at sentence #40000, processed 4726745 words and 2479308 word types\n",
      "INFO - 16:53:37: collected 2950798 word types from a corpus of 5912344 words (unigram + bigrams) and 50000 sentences\n",
      "INFO - 16:53:37: using 2950798 counts as vocab in Phrases<0 vocab, min_count=2, threshold=30, max_vocab_size=40000000>\n",
      "INFO - 16:53:37: source_vocab length 2950798\n",
      "INFO - 16:54:18: Phraser built with 37162 phrasegrams\n"
     ]
    }
   ],
   "source": [
    "from gensim.models.phrases import Phrases, Phraser\n",
    "\n",
    "phrases = Phrases(sent, min_count=2, threshold=30, progress_per=10000)\n",
    "bigram = Phraser(phrases)"
   ]
  },
  {
   "cell_type": "code",
   "execution_count": 6,
   "metadata": {},
   "outputs": [
    {
     "name": "stdout",
     "output_type": "stream",
     "text": [
      "['new_york', 'is', 'awesome']\n"
     ]
    }
   ],
   "source": [
    "#exemplo\n",
    "print(bigram[\"new york is awesome\".split()])"
   ]
  },
  {
   "cell_type": "markdown",
   "metadata": {},
   "source": [
    "Como podemos ver, o modelo conseguiu captar o bigrama \"New York\""
   ]
  },
  {
   "cell_type": "code",
   "execution_count": 7,
   "metadata": {},
   "outputs": [],
   "source": [
    "sentences = bigram[sent]"
   ]
  },
  {
   "cell_type": "markdown",
   "metadata": {},
   "source": [
    "## Treinando o modelo"
   ]
  },
  {
   "cell_type": "code",
   "execution_count": 8,
   "metadata": {},
   "outputs": [],
   "source": [
    "import multiprocessing\n",
    "from gensim.models import Word2Vec"
   ]
  },
  {
   "cell_type": "code",
   "execution_count": 9,
   "metadata": {},
   "outputs": [],
   "source": [
    "cores = multiprocessing.cpu_count()"
   ]
  },
  {
   "cell_type": "code",
   "execution_count": 29,
   "metadata": {},
   "outputs": [],
   "source": [
    "#Iniciando o word2vec\n",
    "w2v = Word2Vec(min_count=20, \n",
    "               window=2, \n",
    "               size=300,  \n",
    "               sample=6e-5, \n",
    "               alpha=0.03, \n",
    "               min_alpha=0.0007, \n",
    "               negative=20,\n",
    "               workers=cores-1)"
   ]
  },
  {
   "cell_type": "code",
   "execution_count": 30,
   "metadata": {},
   "outputs": [
    {
     "name": "stderr",
     "output_type": "stream",
     "text": [
      "INFO - 17:15:33: collecting all words and their counts\n",
      "INFO - 17:15:33: PROGRESS: at sentence #0, processed 0 words, keeping 0 word types\n",
      "INFO - 17:15:38: PROGRESS: at sentence #10000, processed 1096281 words, keeping 69300 word types\n",
      "INFO - 17:15:44: PROGRESS: at sentence #20000, processed 2193186 words, keeping 93573 word types\n",
      "INFO - 17:15:48: PROGRESS: at sentence #30000, processed 3288503 words, keeping 109400 word types\n",
      "INFO - 17:15:52: PROGRESS: at sentence #40000, processed 4382918 words, keeping 121295 word types\n",
      "INFO - 17:15:57: collected 131123 word types from a corpus of 5483050 raw words and 50000 sentences\n",
      "INFO - 17:15:57: Loading a fresh vocabulary\n",
      "INFO - 17:15:57: effective_min_count=20 retains 18921 unique words (14% of original 131123, drops 112202)\n",
      "INFO - 17:15:57: effective_min_count=20 leaves 5030473 word corpus (91% of original 5483050, drops 452577)\n",
      "INFO - 17:15:57: deleting the raw counts dictionary of 131123 items\n",
      "INFO - 17:15:57: sample=6e-05 downsamples 975 most-common words\n",
      "INFO - 17:15:57: downsampling leaves estimated 2851199 word corpus (56.7% of prior 5030473)\n",
      "INFO - 17:15:57: estimated required memory for 18921 words and 300 dimensions: 54870900 bytes\n",
      "INFO - 17:15:57: resetting layer weights\n"
     ]
    }
   ],
   "source": [
    "#construido a tabela do vocabulário\n",
    "w2v.build_vocab(sentences, progress_per=10000)"
   ]
  },
  {
   "cell_type": "code",
   "execution_count": 31,
   "metadata": {},
   "outputs": [
    {
     "name": "stderr",
     "output_type": "stream",
     "text": [
      "INFO - 17:15:57: training model with 3 workers on 18921 vocabulary and 300 features, using sg=0 hs=0 sample=6e-05 negative=20 window=2\n",
      "INFO - 17:15:59: EPOCH 1 - PROGRESS: at 3.32% examples, 89501 words/s, in_qsize 0, out_qsize 0\n",
      "INFO - 17:16:00: EPOCH 1 - PROGRESS: at 6.52% examples, 91044 words/s, in_qsize 0, out_qsize 0\n",
      "INFO - 17:16:01: EPOCH 1 - PROGRESS: at 9.93% examples, 92389 words/s, in_qsize 0, out_qsize 0\n",
      "INFO - 17:16:02: EPOCH 1 - PROGRESS: at 13.28% examples, 93005 words/s, in_qsize 0, out_qsize 0\n",
      "INFO - 17:16:03: EPOCH 1 - PROGRESS: at 16.57% examples, 92988 words/s, in_qsize 0, out_qsize 0\n",
      "INFO - 17:16:04: EPOCH 1 - PROGRESS: at 20.04% examples, 93337 words/s, in_qsize 0, out_qsize 0\n",
      "INFO - 17:16:05: EPOCH 1 - PROGRESS: at 23.37% examples, 92923 words/s, in_qsize 0, out_qsize 0\n",
      "INFO - 17:16:06: EPOCH 1 - PROGRESS: at 26.85% examples, 93298 words/s, in_qsize 0, out_qsize 0\n",
      "INFO - 17:16:07: EPOCH 1 - PROGRESS: at 30.31% examples, 93660 words/s, in_qsize 0, out_qsize 0\n",
      "INFO - 17:16:08: EPOCH 1 - PROGRESS: at 33.57% examples, 93398 words/s, in_qsize 0, out_qsize 0\n",
      "INFO - 17:16:09: EPOCH 1 - PROGRESS: at 36.52% examples, 92291 words/s, in_qsize 0, out_qsize 0\n",
      "INFO - 17:16:10: EPOCH 1 - PROGRESS: at 38.71% examples, 89742 words/s, in_qsize 0, out_qsize 0\n",
      "INFO - 17:16:11: EPOCH 1 - PROGRESS: at 41.67% examples, 89247 words/s, in_qsize 0, out_qsize 0\n",
      "INFO - 17:16:12: EPOCH 1 - PROGRESS: at 45.11% examples, 89653 words/s, in_qsize 0, out_qsize 0\n",
      "INFO - 17:16:13: EPOCH 1 - PROGRESS: at 48.56% examples, 89904 words/s, in_qsize 0, out_qsize 0\n",
      "INFO - 17:16:14: EPOCH 1 - PROGRESS: at 51.96% examples, 90380 words/s, in_qsize 0, out_qsize 0\n",
      "INFO - 17:16:15: EPOCH 1 - PROGRESS: at 55.32% examples, 90311 words/s, in_qsize 0, out_qsize 0\n",
      "INFO - 17:16:16: EPOCH 1 - PROGRESS: at 58.98% examples, 90764 words/s, in_qsize 0, out_qsize 0\n",
      "INFO - 17:16:17: EPOCH 1 - PROGRESS: at 62.54% examples, 91312 words/s, in_qsize 0, out_qsize 0\n",
      "INFO - 17:16:18: EPOCH 1 - PROGRESS: at 66.10% examples, 91663 words/s, in_qsize 0, out_qsize 0\n",
      "INFO - 17:16:19: EPOCH 1 - PROGRESS: at 69.55% examples, 91788 words/s, in_qsize 0, out_qsize 0\n",
      "INFO - 17:16:20: EPOCH 1 - PROGRESS: at 72.83% examples, 91827 words/s, in_qsize 0, out_qsize 0\n",
      "INFO - 17:16:21: EPOCH 1 - PROGRESS: at 76.49% examples, 92197 words/s, in_qsize 0, out_qsize 0\n",
      "INFO - 17:16:22: EPOCH 1 - PROGRESS: at 80.13% examples, 92548 words/s, in_qsize 0, out_qsize 0\n",
      "INFO - 17:16:23: EPOCH 1 - PROGRESS: at 83.79% examples, 92954 words/s, in_qsize 0, out_qsize 0\n",
      "INFO - 17:16:24: EPOCH 1 - PROGRESS: at 87.43% examples, 93388 words/s, in_qsize 0, out_qsize 0\n",
      "INFO - 17:16:25: EPOCH 1 - PROGRESS: at 90.84% examples, 93372 words/s, in_qsize 0, out_qsize 0\n",
      "INFO - 17:16:26: EPOCH 1 - PROGRESS: at 94.46% examples, 93707 words/s, in_qsize 0, out_qsize 0\n",
      "INFO - 17:16:27: EPOCH 1 - PROGRESS: at 98.32% examples, 94115 words/s, in_qsize 0, out_qsize 0\n",
      "INFO - 17:16:28: worker thread finished; awaiting finish of 2 more threads\n",
      "INFO - 17:16:28: worker thread finished; awaiting finish of 1 more threads\n",
      "INFO - 17:16:28: worker thread finished; awaiting finish of 0 more threads\n",
      "INFO - 17:16:28: EPOCH - 1 : training on 5483050 raw words (2851564 effective words) took 30.2s, 94294 effective words/s\n",
      "INFO - 17:16:29: EPOCH 2 - PROGRESS: at 3.69% examples, 99644 words/s, in_qsize 0, out_qsize 0\n",
      "INFO - 17:16:30: EPOCH 2 - PROGRESS: at 7.06% examples, 97931 words/s, in_qsize 0, out_qsize 0\n",
      "INFO - 17:16:31: EPOCH 2 - PROGRESS: at 10.79% examples, 101086 words/s, in_qsize 0, out_qsize 0\n",
      "INFO - 17:16:32: EPOCH 2 - PROGRESS: at 14.52% examples, 102606 words/s, in_qsize 0, out_qsize 0\n",
      "INFO - 17:16:33: EPOCH 2 - PROGRESS: at 18.16% examples, 102710 words/s, in_qsize 1, out_qsize 0\n",
      "INFO - 17:16:34: EPOCH 2 - PROGRESS: at 22.11% examples, 104172 words/s, in_qsize 0, out_qsize 0\n",
      "INFO - 17:16:35: EPOCH 2 - PROGRESS: at 25.58% examples, 103044 words/s, in_qsize 1, out_qsize 0\n",
      "INFO - 17:16:36: EPOCH 2 - PROGRESS: at 29.59% examples, 104083 words/s, in_qsize 0, out_qsize 0\n",
      "INFO - 17:16:37: EPOCH 2 - PROGRESS: at 33.57% examples, 104692 words/s, in_qsize 0, out_qsize 0\n",
      "INFO - 17:16:38: EPOCH 2 - PROGRESS: at 37.41% examples, 104969 words/s, in_qsize 0, out_qsize 0\n",
      "INFO - 17:16:39: EPOCH 2 - PROGRESS: at 41.49% examples, 105832 words/s, in_qsize 0, out_qsize 0\n",
      "INFO - 17:16:40: EPOCH 2 - PROGRESS: at 45.29% examples, 105912 words/s, in_qsize 0, out_qsize 0\n",
      "INFO - 17:16:41: EPOCH 2 - PROGRESS: at 49.46% examples, 106481 words/s, in_qsize 0, out_qsize 0\n",
      "INFO - 17:16:42: EPOCH 2 - PROGRESS: at 53.49% examples, 106873 words/s, in_qsize 0, out_qsize 0\n",
      "INFO - 17:16:43: EPOCH 2 - PROGRESS: at 57.30% examples, 106926 words/s, in_qsize 0, out_qsize 0\n",
      "INFO - 17:16:44: EPOCH 2 - PROGRESS: at 61.42% examples, 107450 words/s, in_qsize 0, out_qsize 0\n",
      "INFO - 17:16:45: EPOCH 2 - PROGRESS: at 65.17% examples, 107339 words/s, in_qsize 0, out_qsize 0\n",
      "INFO - 17:16:46: EPOCH 2 - PROGRESS: at 69.17% examples, 107567 words/s, in_qsize 0, out_qsize 0\n",
      "INFO - 17:16:47: EPOCH 2 - PROGRESS: at 73.37% examples, 108045 words/s, in_qsize 0, out_qsize 0\n",
      "INFO - 17:16:48: EPOCH 2 - PROGRESS: at 77.37% examples, 108222 words/s, in_qsize 0, out_qsize 0\n",
      "INFO - 17:16:49: EPOCH 2 - PROGRESS: at 81.41% examples, 108438 words/s, in_qsize 0, out_qsize 0\n",
      "INFO - 17:16:50: EPOCH 2 - PROGRESS: at 85.17% examples, 108374 words/s, in_qsize 0, out_qsize 0\n",
      "INFO - 17:16:51: EPOCH 2 - PROGRESS: at 89.21% examples, 108599 words/s, in_qsize 0, out_qsize 0\n",
      "INFO - 17:16:52: EPOCH 2 - PROGRESS: at 93.38% examples, 108860 words/s, in_qsize 1, out_qsize 0\n",
      "INFO - 17:16:53: EPOCH 2 - PROGRESS: at 97.59% examples, 109124 words/s, in_qsize 0, out_qsize 0\n",
      "INFO - 17:16:54: worker thread finished; awaiting finish of 2 more threads\n",
      "INFO - 17:16:54: worker thread finished; awaiting finish of 1 more threads\n",
      "INFO - 17:16:54: worker thread finished; awaiting finish of 0 more threads\n",
      "INFO - 17:16:54: EPOCH - 2 : training on 5483050 raw words (2852435 effective words) took 26.1s, 109308 effective words/s\n",
      "INFO - 17:16:55: EPOCH 3 - PROGRESS: at 3.51% examples, 96758 words/s, in_qsize 0, out_qsize 0\n",
      "INFO - 17:16:56: EPOCH 3 - PROGRESS: at 7.62% examples, 106682 words/s, in_qsize 0, out_qsize 0\n",
      "INFO - 17:16:57: EPOCH 3 - PROGRESS: at 11.63% examples, 107581 words/s, in_qsize 0, out_qsize 0\n",
      "INFO - 17:16:58: EPOCH 3 - PROGRESS: at 15.82% examples, 109038 words/s, in_qsize 0, out_qsize 0\n",
      "INFO - 17:16:59: EPOCH 3 - PROGRESS: at 20.04% examples, 110250 words/s, in_qsize 0, out_qsize 0\n",
      "INFO - 17:17:00: EPOCH 3 - PROGRESS: at 23.56% examples, 109012 words/s, in_qsize 0, out_qsize 0\n",
      "INFO - 17:17:01: EPOCH 3 - PROGRESS: at 27.74% examples, 109366 words/s, in_qsize 0, out_qsize 0\n",
      "INFO - 17:17:02: EPOCH 3 - PROGRESS: at 31.95% examples, 109890 words/s, in_qsize 0, out_qsize 0\n",
      "INFO - 17:17:03: EPOCH 3 - PROGRESS: at 36.16% examples, 110555 words/s, in_qsize 0, out_qsize 0\n",
      "INFO - 17:17:04: EPOCH 3 - PROGRESS: at 40.29% examples, 111215 words/s, in_qsize 0, out_qsize 0\n",
      "INFO - 17:17:05: EPOCH 3 - PROGRESS: at 43.87% examples, 110383 words/s, in_qsize 0, out_qsize 0\n",
      "INFO - 17:17:06: EPOCH 3 - PROGRESS: at 47.82% examples, 110566 words/s, in_qsize 0, out_qsize 0\n",
      "INFO - 17:17:07: EPOCH 3 - PROGRESS: at 51.96% examples, 110883 words/s, in_qsize 0, out_qsize 0\n",
      "INFO - 17:17:08: EPOCH 3 - PROGRESS: at 56.03% examples, 110988 words/s, in_qsize 0, out_qsize 0\n",
      "INFO - 17:17:09: EPOCH 3 - PROGRESS: at 60.22% examples, 111334 words/s, in_qsize 0, out_qsize 0\n",
      "INFO - 17:17:10: EPOCH 3 - PROGRESS: at 64.08% examples, 110858 words/s, in_qsize 1, out_qsize 0\n",
      "INFO - 17:17:11: EPOCH 3 - PROGRESS: at 68.35% examples, 111196 words/s, in_qsize 0, out_qsize 0\n",
      "INFO - 17:17:12: EPOCH 3 - PROGRESS: at 72.47% examples, 111385 words/s, in_qsize 0, out_qsize 0\n",
      "INFO - 17:17:13: EPOCH 3 - PROGRESS: at 76.67% examples, 111585 words/s, in_qsize 0, out_qsize 0\n",
      "INFO - 17:17:15: EPOCH 3 - PROGRESS: at 80.89% examples, 111701 words/s, in_qsize 0, out_qsize 0\n",
      "INFO - 17:17:16: EPOCH 3 - PROGRESS: at 84.66% examples, 111540 words/s, in_qsize 0, out_qsize 0\n",
      "INFO - 17:17:17: EPOCH 3 - PROGRESS: at 88.69% examples, 111854 words/s, in_qsize 0, out_qsize 0\n",
      "INFO - 17:17:18: EPOCH 3 - PROGRESS: at 92.84% examples, 112081 words/s, in_qsize 0, out_qsize 0\n"
     ]
    },
    {
     "name": "stderr",
     "output_type": "stream",
     "text": [
      "INFO - 17:17:19: EPOCH 3 - PROGRESS: at 97.03% examples, 112103 words/s, in_qsize 0, out_qsize 0\n",
      "INFO - 17:17:19: worker thread finished; awaiting finish of 2 more threads\n",
      "INFO - 17:17:19: worker thread finished; awaiting finish of 1 more threads\n",
      "INFO - 17:17:19: worker thread finished; awaiting finish of 0 more threads\n",
      "INFO - 17:17:19: EPOCH - 3 : training on 5483050 raw words (2852390 effective words) took 25.4s, 112169 effective words/s\n",
      "INFO - 17:17:20: EPOCH 4 - PROGRESS: at 3.88% examples, 100916 words/s, in_qsize 0, out_qsize 1\n",
      "INFO - 17:17:21: EPOCH 4 - PROGRESS: at 8.00% examples, 104822 words/s, in_qsize 0, out_qsize 0\n",
      "INFO - 17:17:22: EPOCH 4 - PROGRESS: at 10.79% examples, 97282 words/s, in_qsize 0, out_qsize 0\n",
      "INFO - 17:17:24: EPOCH 4 - PROGRESS: at 13.62% examples, 93239 words/s, in_qsize 0, out_qsize 0\n",
      "INFO - 17:17:25: EPOCH 4 - PROGRESS: at 17.62% examples, 96781 words/s, in_qsize 0, out_qsize 0\n",
      "INFO - 17:17:26: EPOCH 4 - PROGRESS: at 21.59% examples, 98802 words/s, in_qsize 0, out_qsize 0\n",
      "INFO - 17:17:27: EPOCH 4 - PROGRESS: at 25.79% examples, 101401 words/s, in_qsize 0, out_qsize 0\n",
      "INFO - 17:17:28: EPOCH 4 - PROGRESS: at 29.96% examples, 102960 words/s, in_qsize 0, out_qsize 0\n",
      "INFO - 17:17:29: EPOCH 4 - PROGRESS: at 34.11% examples, 104472 words/s, in_qsize 1, out_qsize 0\n",
      "INFO - 17:17:30: EPOCH 4 - PROGRESS: at 38.17% examples, 105241 words/s, in_qsize 0, out_qsize 0\n",
      "INFO - 17:17:31: EPOCH 4 - PROGRESS: at 42.04% examples, 105596 words/s, in_qsize 0, out_qsize 0\n",
      "INFO - 17:17:32: EPOCH 4 - PROGRESS: at 46.17% examples, 106428 words/s, in_qsize 0, out_qsize 0\n",
      "INFO - 17:17:33: EPOCH 4 - PROGRESS: at 50.38% examples, 107269 words/s, in_qsize 0, out_qsize 0\n",
      "INFO - 17:17:34: EPOCH 4 - PROGRESS: at 54.25% examples, 107311 words/s, in_qsize 0, out_qsize 0\n",
      "INFO - 17:17:35: EPOCH 4 - PROGRESS: at 57.49% examples, 106155 words/s, in_qsize 0, out_qsize 0\n",
      "INFO - 17:17:36: EPOCH 4 - PROGRESS: at 60.56% examples, 104729 words/s, in_qsize 0, out_qsize 0\n",
      "INFO - 17:17:37: EPOCH 4 - PROGRESS: at 64.43% examples, 105074 words/s, in_qsize 0, out_qsize 0\n",
      "INFO - 17:17:38: EPOCH 4 - PROGRESS: at 68.69% examples, 105696 words/s, in_qsize 0, out_qsize 0\n",
      "INFO - 17:17:39: EPOCH 4 - PROGRESS: at 72.83% examples, 106170 words/s, in_qsize 0, out_qsize 0\n",
      "INFO - 17:17:40: EPOCH 4 - PROGRESS: at 76.84% examples, 106176 words/s, in_qsize 0, out_qsize 0\n",
      "INFO - 17:17:41: EPOCH 4 - PROGRESS: at 81.23% examples, 106823 words/s, in_qsize 0, out_qsize 0\n",
      "INFO - 17:17:42: EPOCH 4 - PROGRESS: at 85.34% examples, 107243 words/s, in_qsize 0, out_qsize 0\n",
      "INFO - 17:17:43: EPOCH 4 - PROGRESS: at 89.39% examples, 107616 words/s, in_qsize 0, out_qsize 0\n",
      "INFO - 17:17:44: EPOCH 4 - PROGRESS: at 93.74% examples, 108135 words/s, in_qsize 0, out_qsize 0\n",
      "INFO - 17:17:45: EPOCH 4 - PROGRESS: at 97.76% examples, 108247 words/s, in_qsize 0, out_qsize 0\n",
      "INFO - 17:17:46: worker thread finished; awaiting finish of 2 more threads\n",
      "INFO - 17:17:46: worker thread finished; awaiting finish of 1 more threads\n",
      "INFO - 17:17:46: worker thread finished; awaiting finish of 0 more threads\n",
      "INFO - 17:17:46: EPOCH - 4 : training on 5483050 raw words (2851651 effective words) took 26.3s, 108448 effective words/s\n",
      "INFO - 17:17:47: EPOCH 5 - PROGRESS: at 4.06% examples, 112267 words/s, in_qsize 0, out_qsize 0\n",
      "INFO - 17:17:48: EPOCH 5 - PROGRESS: at 8.19% examples, 114697 words/s, in_qsize 0, out_qsize 0\n",
      "INFO - 17:17:49: EPOCH 5 - PROGRESS: at 12.11% examples, 115628 words/s, in_qsize 0, out_qsize 0\n",
      "INFO - 17:17:50: EPOCH 5 - PROGRESS: at 16.21% examples, 113210 words/s, in_qsize 0, out_qsize 0\n",
      "INFO - 17:17:51: EPOCH 5 - PROGRESS: at 20.55% examples, 114470 words/s, in_qsize 0, out_qsize 0\n",
      "INFO - 17:17:52: EPOCH 5 - PROGRESS: at 24.70% examples, 114711 words/s, in_qsize 1, out_qsize 0\n",
      "INFO - 17:17:53: EPOCH 5 - PROGRESS: at 28.83% examples, 115101 words/s, in_qsize 0, out_qsize 0\n",
      "INFO - 17:17:54: EPOCH 5 - PROGRESS: at 33.04% examples, 115465 words/s, in_qsize 0, out_qsize 0\n",
      "INFO - 17:17:55: EPOCH 5 - PROGRESS: at 37.05% examples, 114861 words/s, in_qsize 0, out_qsize 0\n",
      "INFO - 17:17:56: EPOCH 5 - PROGRESS: at 41.15% examples, 114978 words/s, in_qsize 0, out_qsize 0\n",
      "INFO - 17:17:57: EPOCH 5 - PROGRESS: at 45.29% examples, 114990 words/s, in_qsize 0, out_qsize 0\n",
      "INFO - 17:17:58: EPOCH 5 - PROGRESS: at 49.63% examples, 115336 words/s, in_qsize 0, out_qsize 0\n",
      "INFO - 17:17:59: EPOCH 5 - PROGRESS: at 53.86% examples, 115539 words/s, in_qsize 1, out_qsize 0\n",
      "INFO - 17:18:00: EPOCH 5 - PROGRESS: at 57.67% examples, 114996 words/s, in_qsize 0, out_qsize 0\n",
      "INFO - 17:18:01: EPOCH 5 - PROGRESS: at 61.97% examples, 115245 words/s, in_qsize 0, out_qsize 0\n",
      "INFO - 17:18:02: EPOCH 5 - PROGRESS: at 66.30% examples, 115489 words/s, in_qsize 0, out_qsize 0\n",
      "INFO - 17:18:03: EPOCH 5 - PROGRESS: at 70.47% examples, 115445 words/s, in_qsize 0, out_qsize 0\n",
      "INFO - 17:18:04: EPOCH 5 - PROGRESS: at 74.65% examples, 115546 words/s, in_qsize 0, out_qsize 0\n",
      "INFO - 17:18:05: EPOCH 5 - PROGRESS: at 78.65% examples, 115205 words/s, in_qsize 1, out_qsize 0\n",
      "INFO - 17:18:06: EPOCH 5 - PROGRESS: at 82.51% examples, 114857 words/s, in_qsize 0, out_qsize 0\n",
      "INFO - 17:18:07: EPOCH 5 - PROGRESS: at 86.53% examples, 115014 words/s, in_qsize 0, out_qsize 0\n",
      "INFO - 17:18:08: EPOCH 5 - PROGRESS: at 90.67% examples, 115173 words/s, in_qsize 0, out_qsize 0\n",
      "INFO - 17:18:09: EPOCH 5 - PROGRESS: at 94.83% examples, 115292 words/s, in_qsize 0, out_qsize 0\n",
      "INFO - 17:18:10: EPOCH 5 - PROGRESS: at 98.87% examples, 114926 words/s, in_qsize 0, out_qsize 0\n",
      "INFO - 17:18:10: worker thread finished; awaiting finish of 2 more threads\n",
      "INFO - 17:18:10: worker thread finished; awaiting finish of 1 more threads\n",
      "INFO - 17:18:10: worker thread finished; awaiting finish of 0 more threads\n",
      "INFO - 17:18:10: EPOCH - 5 : training on 5483050 raw words (2849483 effective words) took 24.7s, 115141 effective words/s\n",
      "INFO - 17:18:11: EPOCH 6 - PROGRESS: at 3.88% examples, 107080 words/s, in_qsize 1, out_qsize 0\n",
      "INFO - 17:18:12: EPOCH 6 - PROGRESS: at 8.19% examples, 113861 words/s, in_qsize 0, out_qsize 0\n",
      "INFO - 17:18:13: EPOCH 6 - PROGRESS: at 11.93% examples, 112747 words/s, in_qsize 0, out_qsize 0\n",
      "INFO - 17:18:14: EPOCH 6 - PROGRESS: at 15.82% examples, 110617 words/s, in_qsize 0, out_qsize 0\n",
      "INFO - 17:18:15: EPOCH 6 - PROGRESS: at 19.66% examples, 109868 words/s, in_qsize 0, out_qsize 0\n",
      "INFO - 17:18:17: EPOCH 6 - PROGRESS: at 23.37% examples, 109348 words/s, in_qsize 0, out_qsize 0\n",
      "INFO - 17:18:18: EPOCH 6 - PROGRESS: at 27.55% examples, 110688 words/s, in_qsize 0, out_qsize 0\n",
      "INFO - 17:18:19: EPOCH 6 - PROGRESS: at 31.77% examples, 111472 words/s, in_qsize 0, out_qsize 0\n",
      "INFO - 17:18:20: EPOCH 6 - PROGRESS: at 35.79% examples, 111560 words/s, in_qsize 0, out_qsize 0\n",
      "INFO - 17:18:21: EPOCH 6 - PROGRESS: at 39.75% examples, 111372 words/s, in_qsize 1, out_qsize 0\n",
      "INFO - 17:18:22: EPOCH 6 - PROGRESS: at 43.68% examples, 111494 words/s, in_qsize 0, out_qsize 0\n",
      "INFO - 17:18:23: EPOCH 6 - PROGRESS: at 47.82% examples, 111856 words/s, in_qsize 0, out_qsize 0\n",
      "INFO - 17:18:24: EPOCH 6 - PROGRESS: at 51.96% examples, 112191 words/s, in_qsize 1, out_qsize 0\n",
      "INFO - 17:18:25: EPOCH 6 - PROGRESS: at 56.18% examples, 112156 words/s, in_qsize 0, out_qsize 0\n",
      "INFO - 17:18:26: EPOCH 6 - PROGRESS: at 60.38% examples, 112216 words/s, in_qsize 1, out_qsize 0\n",
      "INFO - 17:18:27: EPOCH 6 - PROGRESS: at 64.43% examples, 112488 words/s, in_qsize 0, out_qsize 0\n",
      "INFO - 17:18:28: EPOCH 6 - PROGRESS: at 68.69% examples, 112627 words/s, in_qsize 0, out_qsize 0\n",
      "INFO - 17:18:29: EPOCH 6 - PROGRESS: at 72.83% examples, 112893 words/s, in_qsize 0, out_qsize 0\n",
      "INFO - 17:18:30: EPOCH 6 - PROGRESS: at 76.84% examples, 112607 words/s, in_qsize 0, out_qsize 0\n",
      "INFO - 17:18:31: EPOCH 6 - PROGRESS: at 81.23% examples, 113070 words/s, in_qsize 0, out_qsize 0\n",
      "INFO - 17:18:32: EPOCH 6 - PROGRESS: at 85.17% examples, 112988 words/s, in_qsize 0, out_qsize 0\n",
      "INFO - 17:18:33: EPOCH 6 - PROGRESS: at 89.39% examples, 113405 words/s, in_qsize 0, out_qsize 0\n",
      "INFO - 17:18:34: EPOCH 6 - PROGRESS: at 93.56% examples, 113625 words/s, in_qsize 0, out_qsize 0\n",
      "INFO - 17:18:35: EPOCH 6 - PROGRESS: at 97.59% examples, 113489 words/s, in_qsize 0, out_qsize 0\n"
     ]
    },
    {
     "name": "stderr",
     "output_type": "stream",
     "text": [
      "INFO - 17:18:35: worker thread finished; awaiting finish of 2 more threads\n",
      "INFO - 17:18:35: worker thread finished; awaiting finish of 1 more threads\n",
      "INFO - 17:18:35: worker thread finished; awaiting finish of 0 more threads\n",
      "INFO - 17:18:35: EPOCH - 6 : training on 5483050 raw words (2850594 effective words) took 25.1s, 113716 effective words/s\n",
      "INFO - 17:18:36: EPOCH 7 - PROGRESS: at 4.06% examples, 112082 words/s, in_qsize 0, out_qsize 0\n",
      "INFO - 17:18:37: EPOCH 7 - PROGRESS: at 8.19% examples, 113667 words/s, in_qsize 1, out_qsize 0\n",
      "INFO - 17:18:39: EPOCH 7 - PROGRESS: at 12.30% examples, 115323 words/s, in_qsize 0, out_qsize 0\n",
      "INFO - 17:18:40: EPOCH 7 - PROGRESS: at 16.57% examples, 115096 words/s, in_qsize 0, out_qsize 0\n",
      "INFO - 17:18:41: EPOCH 7 - PROGRESS: at 20.55% examples, 114243 words/s, in_qsize 0, out_qsize 0\n",
      "INFO - 17:18:42: EPOCH 7 - PROGRESS: at 24.70% examples, 114901 words/s, in_qsize 0, out_qsize 0\n",
      "INFO - 17:18:43: EPOCH 7 - PROGRESS: at 29.01% examples, 115436 words/s, in_qsize 0, out_qsize 0\n",
      "INFO - 17:18:44: EPOCH 7 - PROGRESS: at 33.22% examples, 115462 words/s, in_qsize 0, out_qsize 0\n",
      "INFO - 17:18:45: EPOCH 7 - PROGRESS: at 37.21% examples, 114936 words/s, in_qsize 0, out_qsize 0\n",
      "INFO - 17:18:46: EPOCH 7 - PROGRESS: at 41.49% examples, 115210 words/s, in_qsize 0, out_qsize 0\n",
      "INFO - 17:18:47: EPOCH 7 - PROGRESS: at 45.81% examples, 115388 words/s, in_qsize 0, out_qsize 0\n",
      "INFO - 17:18:48: EPOCH 7 - PROGRESS: at 50.19% examples, 115694 words/s, in_qsize 0, out_qsize 0\n",
      "INFO - 17:18:49: EPOCH 7 - PROGRESS: at 54.44% examples, 115884 words/s, in_qsize 0, out_qsize 0\n",
      "INFO - 17:18:50: EPOCH 7 - PROGRESS: at 58.27% examples, 115379 words/s, in_qsize 0, out_qsize 0\n",
      "INFO - 17:18:51: EPOCH 7 - PROGRESS: at 62.54% examples, 115332 words/s, in_qsize 1, out_qsize 0\n",
      "INFO - 17:18:52: EPOCH 7 - PROGRESS: at 66.66% examples, 115504 words/s, in_qsize 0, out_qsize 0\n",
      "INFO - 17:18:53: EPOCH 7 - PROGRESS: at 70.83% examples, 115666 words/s, in_qsize 0, out_qsize 0\n",
      "INFO - 17:18:54: EPOCH 7 - PROGRESS: at 75.00% examples, 115784 words/s, in_qsize 0, out_qsize 0\n",
      "INFO - 17:18:55: EPOCH 7 - PROGRESS: at 79.04% examples, 115536 words/s, in_qsize 0, out_qsize 0\n",
      "INFO - 17:18:56: EPOCH 7 - PROGRESS: at 83.26% examples, 115374 words/s, in_qsize 0, out_qsize 1\n",
      "INFO - 17:18:57: EPOCH 7 - PROGRESS: at 87.43% examples, 115639 words/s, in_qsize 0, out_qsize 0\n",
      "INFO - 17:18:58: EPOCH 7 - PROGRESS: at 91.57% examples, 115720 words/s, in_qsize 0, out_qsize 0\n",
      "INFO - 17:18:59: EPOCH 7 - PROGRESS: at 95.71% examples, 115748 words/s, in_qsize 0, out_qsize 0\n",
      "INFO - 17:19:00: EPOCH 7 - PROGRESS: at 99.61% examples, 115391 words/s, in_qsize 0, out_qsize 0\n",
      "INFO - 17:19:00: worker thread finished; awaiting finish of 2 more threads\n",
      "INFO - 17:19:00: worker thread finished; awaiting finish of 1 more threads\n",
      "INFO - 17:19:00: worker thread finished; awaiting finish of 0 more threads\n",
      "INFO - 17:19:00: EPOCH - 7 : training on 5483050 raw words (2850368 effective words) took 24.7s, 115450 effective words/s\n",
      "INFO - 17:19:01: EPOCH 8 - PROGRESS: at 4.06% examples, 112163 words/s, in_qsize 0, out_qsize 0\n",
      "INFO - 17:19:02: EPOCH 8 - PROGRESS: at 8.36% examples, 114085 words/s, in_qsize 0, out_qsize 0\n",
      "INFO - 17:19:03: EPOCH 8 - PROGRESS: at 12.50% examples, 115468 words/s, in_qsize 0, out_qsize 0\n",
      "INFO - 17:19:04: EPOCH 8 - PROGRESS: at 16.75% examples, 115789 words/s, in_qsize 0, out_qsize 0\n",
      "INFO - 17:19:05: EPOCH 8 - PROGRESS: at 20.90% examples, 115555 words/s, in_qsize 0, out_qsize 0\n",
      "INFO - 17:19:06: EPOCH 8 - PROGRESS: at 24.88% examples, 115067 words/s, in_qsize 0, out_qsize 0\n",
      "INFO - 17:19:07: EPOCH 8 - PROGRESS: at 29.22% examples, 115578 words/s, in_qsize 0, out_qsize 1\n",
      "INFO - 17:19:08: EPOCH 8 - PROGRESS: at 33.40% examples, 115904 words/s, in_qsize 0, out_qsize 0\n",
      "INFO - 17:19:09: EPOCH 8 - PROGRESS: at 37.60% examples, 116098 words/s, in_qsize 0, out_qsize 0\n",
      "INFO - 17:19:10: EPOCH 8 - PROGRESS: at 41.67% examples, 115817 words/s, in_qsize 0, out_qsize 0\n",
      "INFO - 17:19:11: EPOCH 8 - PROGRESS: at 45.81% examples, 115752 words/s, in_qsize 0, out_qsize 0\n",
      "INFO - 17:19:12: EPOCH 8 - PROGRESS: at 50.01% examples, 115957 words/s, in_qsize 0, out_qsize 0\n",
      "INFO - 17:19:14: EPOCH 8 - PROGRESS: at 54.44% examples, 116074 words/s, in_qsize 0, out_qsize 0\n",
      "INFO - 17:19:15: EPOCH 8 - PROGRESS: at 58.65% examples, 116143 words/s, in_qsize 0, out_qsize 0\n",
      "INFO - 17:19:16: EPOCH 8 - PROGRESS: at 62.54% examples, 115520 words/s, in_qsize 0, out_qsize 0\n",
      "INFO - 17:19:17: EPOCH 8 - PROGRESS: at 66.85% examples, 115769 words/s, in_qsize 0, out_qsize 0\n",
      "INFO - 17:19:18: EPOCH 8 - PROGRESS: at 71.00% examples, 115578 words/s, in_qsize 0, out_qsize 0\n",
      "INFO - 17:19:19: EPOCH 8 - PROGRESS: at 74.65% examples, 114781 words/s, in_qsize 0, out_qsize 0\n",
      "INFO - 17:19:20: EPOCH 8 - PROGRESS: at 78.47% examples, 114420 words/s, in_qsize 0, out_qsize 0\n",
      "INFO - 17:19:21: EPOCH 8 - PROGRESS: at 81.99% examples, 113515 words/s, in_qsize 0, out_qsize 0\n",
      "INFO - 17:19:22: EPOCH 8 - PROGRESS: at 84.84% examples, 111993 words/s, in_qsize 0, out_qsize 0\n",
      "INFO - 17:19:23: EPOCH 8 - PROGRESS: at 86.88% examples, 109544 words/s, in_qsize 0, out_qsize 0\n",
      "INFO - 17:19:24: EPOCH 8 - PROGRESS: at 90.84% examples, 109507 words/s, in_qsize 0, out_qsize 0\n",
      "INFO - 17:19:25: EPOCH 8 - PROGRESS: at 93.74% examples, 108154 words/s, in_qsize 0, out_qsize 0\n",
      "INFO - 17:19:26: EPOCH 8 - PROGRESS: at 97.41% examples, 107798 words/s, in_qsize 0, out_qsize 0\n",
      "INFO - 17:19:27: worker thread finished; awaiting finish of 2 more threads\n",
      "INFO - 17:19:27: worker thread finished; awaiting finish of 1 more threads\n",
      "INFO - 17:19:27: worker thread finished; awaiting finish of 0 more threads\n",
      "INFO - 17:19:27: EPOCH - 8 : training on 5483050 raw words (2850099 effective words) took 26.4s, 107903 effective words/s\n",
      "INFO - 17:19:28: EPOCH 9 - PROGRESS: at 3.69% examples, 87991 words/s, in_qsize 0, out_qsize 1\n",
      "INFO - 17:19:29: EPOCH 9 - PROGRESS: at 5.66% examples, 73328 words/s, in_qsize 0, out_qsize 0\n",
      "INFO - 17:19:30: EPOCH 9 - PROGRESS: at 8.36% examples, 73826 words/s, in_qsize 0, out_qsize 0\n",
      "INFO - 17:19:31: EPOCH 9 - PROGRESS: at 11.13% examples, 75756 words/s, in_qsize 0, out_qsize 0\n",
      "INFO - 17:19:32: EPOCH 9 - PROGRESS: at 14.36% examples, 78422 words/s, in_qsize 0, out_qsize 0\n",
      "INFO - 17:19:33: EPOCH 9 - PROGRESS: at 17.62% examples, 80529 words/s, in_qsize 0, out_qsize 0\n",
      "INFO - 17:19:34: EPOCH 9 - PROGRESS: at 20.90% examples, 81775 words/s, in_qsize 0, out_qsize 0\n",
      "INFO - 17:19:35: EPOCH 9 - PROGRESS: at 24.09% examples, 82754 words/s, in_qsize 0, out_qsize 0\n",
      "INFO - 17:19:36: EPOCH 9 - PROGRESS: at 27.55% examples, 84158 words/s, in_qsize 0, out_qsize 0\n",
      "INFO - 17:19:37: EPOCH 9 - PROGRESS: at 30.49% examples, 83910 words/s, in_qsize 0, out_qsize 0\n",
      "INFO - 17:19:38: EPOCH 9 - PROGRESS: at 32.65% examples, 81842 words/s, in_qsize 0, out_qsize 0\n",
      "INFO - 17:19:39: EPOCH 9 - PROGRESS: at 34.86% examples, 79916 words/s, in_qsize 0, out_qsize 0\n",
      "INFO - 17:19:40: EPOCH 9 - PROGRESS: at 37.21% examples, 78519 words/s, in_qsize 0, out_qsize 0\n",
      "INFO - 17:19:41: EPOCH 9 - PROGRESS: at 39.58% examples, 77647 words/s, in_qsize 0, out_qsize 0\n",
      "INFO - 17:19:42: EPOCH 9 - PROGRESS: at 42.76% examples, 78559 words/s, in_qsize 0, out_qsize 0\n",
      "INFO - 17:19:43: EPOCH 9 - PROGRESS: at 46.90% examples, 80808 words/s, in_qsize 0, out_qsize 0\n",
      "INFO - 17:19:44: EPOCH 9 - PROGRESS: at 50.92% examples, 82541 words/s, in_qsize 0, out_qsize 0\n",
      "INFO - 17:19:45: EPOCH 9 - PROGRESS: at 54.62% examples, 83624 words/s, in_qsize 1, out_qsize 0\n",
      "INFO - 17:19:46: EPOCH 9 - PROGRESS: at 58.65% examples, 85012 words/s, in_qsize 0, out_qsize 0\n",
      "INFO - 17:19:47: EPOCH 9 - PROGRESS: at 61.79% examples, 85340 words/s, in_qsize 0, out_qsize 0\n",
      "INFO - 17:19:48: EPOCH 9 - PROGRESS: at 65.34% examples, 86084 words/s, in_qsize 0, out_qsize 0\n",
      "INFO - 17:19:49: EPOCH 9 - PROGRESS: at 69.17% examples, 86915 words/s, in_qsize 0, out_qsize 0\n",
      "INFO - 17:19:50: EPOCH 9 - PROGRESS: at 72.64% examples, 87305 words/s, in_qsize 0, out_qsize 1\n",
      "INFO - 17:19:51: EPOCH 9 - PROGRESS: at 76.29% examples, 87822 words/s, in_qsize 0, out_qsize 0\n",
      "INFO - 17:19:52: EPOCH 9 - PROGRESS: at 79.78% examples, 88102 words/s, in_qsize 0, out_qsize 0\n",
      "INFO - 17:19:53: EPOCH 9 - PROGRESS: at 82.71% examples, 87846 words/s, in_qsize 0, out_qsize 0\n"
     ]
    },
    {
     "name": "stderr",
     "output_type": "stream",
     "text": [
      "INFO - 17:19:54: EPOCH 9 - PROGRESS: at 86.38% examples, 88457 words/s, in_qsize 0, out_qsize 0\n",
      "INFO - 17:19:56: EPOCH 9 - PROGRESS: at 88.50% examples, 87004 words/s, in_qsize 0, out_qsize 0\n",
      "INFO - 17:19:57: EPOCH 9 - PROGRESS: at 91.96% examples, 87207 words/s, in_qsize 0, out_qsize 0\n",
      "INFO - 17:19:58: EPOCH 9 - PROGRESS: at 96.10% examples, 88162 words/s, in_qsize 1, out_qsize 0\n",
      "INFO - 17:19:59: worker thread finished; awaiting finish of 2 more threads\n",
      "INFO - 17:19:59: worker thread finished; awaiting finish of 1 more threads\n",
      "INFO - 17:19:59: EPOCH 9 - PROGRESS: at 100.00% examples, 88660 words/s, in_qsize 0, out_qsize 1\n",
      "INFO - 17:19:59: worker thread finished; awaiting finish of 0 more threads\n",
      "INFO - 17:19:59: EPOCH - 9 : training on 5483050 raw words (2850143 effective words) took 32.1s, 88653 effective words/s\n",
      "INFO - 17:20:00: EPOCH 10 - PROGRESS: at 3.14% examples, 83376 words/s, in_qsize 0, out_qsize 0\n",
      "INFO - 17:20:01: EPOCH 10 - PROGRESS: at 6.71% examples, 91580 words/s, in_qsize 0, out_qsize 0\n",
      "INFO - 17:20:02: EPOCH 10 - PROGRESS: at 10.79% examples, 99819 words/s, in_qsize 0, out_qsize 0\n",
      "INFO - 17:20:03: EPOCH 10 - PROGRESS: at 14.73% examples, 102537 words/s, in_qsize 0, out_qsize 0\n",
      "INFO - 17:20:04: EPOCH 10 - PROGRESS: at 18.34% examples, 102318 words/s, in_qsize 0, out_qsize 0\n",
      "INFO - 17:20:05: EPOCH 10 - PROGRESS: at 21.41% examples, 98924 words/s, in_qsize 0, out_qsize 0\n",
      "INFO - 17:20:06: EPOCH 10 - PROGRESS: at 25.05% examples, 98603 words/s, in_qsize 0, out_qsize 0\n",
      "INFO - 17:20:07: EPOCH 10 - PROGRESS: at 28.65% examples, 98845 words/s, in_qsize 0, out_qsize 0\n",
      "INFO - 17:20:08: EPOCH 10 - PROGRESS: at 32.09% examples, 97976 words/s, in_qsize 0, out_qsize 0\n",
      "INFO - 17:20:09: EPOCH 10 - PROGRESS: at 35.44% examples, 97294 words/s, in_qsize 0, out_qsize 0\n",
      "INFO - 17:20:10: EPOCH 10 - PROGRESS: at 38.35% examples, 95957 words/s, in_qsize 0, out_qsize 0\n",
      "INFO - 17:20:11: EPOCH 10 - PROGRESS: at 42.22% examples, 96931 words/s, in_qsize 0, out_qsize 0\n",
      "INFO - 17:20:12: EPOCH 10 - PROGRESS: at 45.98% examples, 97499 words/s, in_qsize 0, out_qsize 0\n",
      "INFO - 17:20:13: EPOCH 10 - PROGRESS: at 50.01% examples, 98531 words/s, in_qsize 0, out_qsize 0\n",
      "INFO - 17:20:14: EPOCH 10 - PROGRESS: at 53.86% examples, 98821 words/s, in_qsize 0, out_qsize 0\n",
      "INFO - 17:20:15: EPOCH 10 - PROGRESS: at 57.30% examples, 98739 words/s, in_qsize 0, out_qsize 0\n",
      "INFO - 17:20:16: EPOCH 10 - PROGRESS: at 61.42% examples, 99777 words/s, in_qsize 0, out_qsize 0\n",
      "INFO - 17:20:17: EPOCH 10 - PROGRESS: at 65.52% examples, 100777 words/s, in_qsize 0, out_qsize 0\n",
      "INFO - 17:20:18: EPOCH 10 - PROGRESS: at 69.73% examples, 101592 words/s, in_qsize 0, out_qsize 0\n",
      "INFO - 17:20:19: EPOCH 10 - PROGRESS: at 73.57% examples, 101891 words/s, in_qsize 0, out_qsize 0\n",
      "INFO - 17:20:20: EPOCH 10 - PROGRESS: at 76.84% examples, 101392 words/s, in_qsize 0, out_qsize 0\n",
      "INFO - 17:20:21: EPOCH 10 - PROGRESS: at 81.05% examples, 102100 words/s, in_qsize 0, out_qsize 0\n",
      "INFO - 17:20:22: EPOCH 10 - PROGRESS: at 85.34% examples, 102677 words/s, in_qsize 0, out_qsize 0\n",
      "INFO - 17:20:23: EPOCH 10 - PROGRESS: at 89.55% examples, 103391 words/s, in_qsize 0, out_qsize 1\n",
      "INFO - 17:20:25: EPOCH 10 - PROGRESS: at 93.91% examples, 103986 words/s, in_qsize 0, out_qsize 0\n",
      "INFO - 17:20:26: EPOCH 10 - PROGRESS: at 98.14% examples, 104316 words/s, in_qsize 0, out_qsize 0\n",
      "INFO - 17:20:26: worker thread finished; awaiting finish of 2 more threads\n",
      "INFO - 17:20:26: worker thread finished; awaiting finish of 1 more threads\n",
      "INFO - 17:20:26: worker thread finished; awaiting finish of 0 more threads\n",
      "INFO - 17:20:26: EPOCH - 10 : training on 5483050 raw words (2852348 effective words) took 27.3s, 104627 effective words/s\n",
      "INFO - 17:20:27: EPOCH 11 - PROGRESS: at 4.24% examples, 116858 words/s, in_qsize 0, out_qsize 0\n",
      "INFO - 17:20:28: EPOCH 11 - PROGRESS: at 8.19% examples, 114512 words/s, in_qsize 0, out_qsize 0\n",
      "INFO - 17:20:29: EPOCH 11 - PROGRESS: at 11.45% examples, 108615 words/s, in_qsize 0, out_qsize 0\n",
      "INFO - 17:20:30: EPOCH 11 - PROGRESS: at 15.30% examples, 107696 words/s, in_qsize 0, out_qsize 0\n",
      "INFO - 17:20:31: EPOCH 11 - PROGRESS: at 18.16% examples, 101912 words/s, in_qsize 0, out_qsize 0\n",
      "INFO - 17:20:32: EPOCH 11 - PROGRESS: at 21.59% examples, 101130 words/s, in_qsize 0, out_qsize 0\n",
      "INFO - 17:20:33: EPOCH 11 - PROGRESS: at 25.42% examples, 101774 words/s, in_qsize 0, out_qsize 0\n",
      "INFO - 17:20:34: EPOCH 11 - PROGRESS: at 26.85% examples, 94082 words/s, in_qsize 1, out_qsize 0\n",
      "INFO - 17:20:35: EPOCH 11 - PROGRESS: at 28.47% examples, 87863 words/s, in_qsize 0, out_qsize 0\n",
      "INFO - 17:20:36: EPOCH 11 - PROGRESS: at 30.12% examples, 83429 words/s, in_qsize 0, out_qsize 0\n",
      "INFO - 17:20:37: EPOCH 11 - PROGRESS: at 32.27% examples, 80953 words/s, in_qsize 0, out_qsize 0\n",
      "INFO - 17:20:38: EPOCH 11 - PROGRESS: at 34.47% examples, 79081 words/s, in_qsize 0, out_qsize 0\n",
      "INFO - 17:20:39: EPOCH 11 - PROGRESS: at 37.05% examples, 78315 words/s, in_qsize 0, out_qsize 0\n",
      "INFO - 17:20:41: EPOCH 11 - PROGRESS: at 40.82% examples, 80262 words/s, in_qsize 0, out_qsize 1\n",
      "INFO - 17:20:42: EPOCH 11 - PROGRESS: at 44.75% examples, 82315 words/s, in_qsize 0, out_qsize 0\n",
      "INFO - 17:20:43: EPOCH 11 - PROGRESS: at 48.93% examples, 84442 words/s, in_qsize 0, out_qsize 0\n",
      "INFO - 17:20:44: EPOCH 11 - PROGRESS: at 53.13% examples, 86379 words/s, in_qsize 0, out_qsize 0\n",
      "INFO - 17:20:45: EPOCH 11 - PROGRESS: at 57.30% examples, 88042 words/s, in_qsize 0, out_qsize 0\n",
      "INFO - 17:20:46: EPOCH 11 - PROGRESS: at 61.06% examples, 88738 words/s, in_qsize 0, out_qsize 0\n",
      "INFO - 17:20:47: EPOCH 11 - PROGRESS: at 65.17% examples, 90073 words/s, in_qsize 0, out_qsize 0\n",
      "INFO - 17:20:48: EPOCH 11 - PROGRESS: at 69.55% examples, 91241 words/s, in_qsize 0, out_qsize 1\n",
      "INFO - 17:20:49: EPOCH 11 - PROGRESS: at 73.92% examples, 92515 words/s, in_qsize 0, out_qsize 0\n",
      "INFO - 17:20:50: EPOCH 11 - PROGRESS: at 77.91% examples, 93312 words/s, in_qsize 0, out_qsize 0\n",
      "INFO - 17:20:51: EPOCH 11 - PROGRESS: at 82.13% examples, 94259 words/s, in_qsize 1, out_qsize 0\n",
      "INFO - 17:20:52: EPOCH 11 - PROGRESS: at 86.38% examples, 95291 words/s, in_qsize 0, out_qsize 0\n",
      "INFO - 17:20:53: EPOCH 11 - PROGRESS: at 90.50% examples, 96058 words/s, in_qsize 0, out_qsize 0\n",
      "INFO - 17:20:54: EPOCH 11 - PROGRESS: at 94.83% examples, 96933 words/s, in_qsize 0, out_qsize 0\n",
      "INFO - 17:20:55: EPOCH 11 - PROGRESS: at 98.87% examples, 97432 words/s, in_qsize 0, out_qsize 0\n",
      "INFO - 17:20:55: worker thread finished; awaiting finish of 2 more threads\n",
      "INFO - 17:20:55: worker thread finished; awaiting finish of 1 more threads\n",
      "INFO - 17:20:55: worker thread finished; awaiting finish of 0 more threads\n",
      "INFO - 17:20:55: EPOCH - 11 : training on 5483050 raw words (2849226 effective words) took 29.2s, 97624 effective words/s\n",
      "INFO - 17:20:56: EPOCH 12 - PROGRESS: at 4.24% examples, 115117 words/s, in_qsize 0, out_qsize 0\n",
      "INFO - 17:20:57: EPOCH 12 - PROGRESS: at 8.36% examples, 116766 words/s, in_qsize 0, out_qsize 0\n",
      "INFO - 17:20:58: EPOCH 12 - PROGRESS: at 12.50% examples, 116956 words/s, in_qsize 0, out_qsize 0\n",
      "INFO - 17:20:59: EPOCH 12 - PROGRESS: at 16.94% examples, 117736 words/s, in_qsize 0, out_qsize 0\n",
      "INFO - 17:21:00: EPOCH 12 - PROGRESS: at 20.72% examples, 115406 words/s, in_qsize 0, out_qsize 0\n",
      "INFO - 17:21:01: EPOCH 12 - PROGRESS: at 24.88% examples, 115754 words/s, in_qsize 0, out_qsize 0\n",
      "INFO - 17:21:02: EPOCH 12 - PROGRESS: at 29.01% examples, 115857 words/s, in_qsize 0, out_qsize 0\n",
      "INFO - 17:21:03: EPOCH 12 - PROGRESS: at 33.22% examples, 116010 words/s, in_qsize 0, out_qsize 0\n",
      "INFO - 17:21:04: EPOCH 12 - PROGRESS: at 37.41% examples, 116182 words/s, in_qsize 0, out_qsize 0\n",
      "INFO - 17:21:05: EPOCH 12 - PROGRESS: at 41.33% examples, 115723 words/s, in_qsize 0, out_qsize 0\n",
      "INFO - 17:21:06: EPOCH 12 - PROGRESS: at 45.63% examples, 116238 words/s, in_qsize 0, out_qsize 0\n",
      "INFO - 17:21:07: EPOCH 12 - PROGRESS: at 49.85% examples, 116038 words/s, in_qsize 0, out_qsize 0\n",
      "INFO - 17:21:08: EPOCH 12 - PROGRESS: at 54.06% examples, 116132 words/s, in_qsize 0, out_qsize 0\n",
      "INFO - 17:21:10: EPOCH 12 - PROGRESS: at 58.46% examples, 116478 words/s, in_qsize 0, out_qsize 0\n",
      "INFO - 17:21:11: EPOCH 12 - PROGRESS: at 62.36% examples, 115989 words/s, in_qsize 0, out_qsize 0\n"
     ]
    },
    {
     "name": "stderr",
     "output_type": "stream",
     "text": [
      "INFO - 17:21:12: EPOCH 12 - PROGRESS: at 66.48% examples, 116118 words/s, in_qsize 0, out_qsize 0\n",
      "INFO - 17:21:13: EPOCH 12 - PROGRESS: at 70.66% examples, 116117 words/s, in_qsize 0, out_qsize 0\n",
      "INFO - 17:21:14: EPOCH 12 - PROGRESS: at 74.47% examples, 115641 words/s, in_qsize 0, out_qsize 0\n",
      "INFO - 17:21:15: EPOCH 12 - PROGRESS: at 78.47% examples, 115435 words/s, in_qsize 0, out_qsize 0\n",
      "INFO - 17:21:16: EPOCH 12 - PROGRESS: at 82.51% examples, 115117 words/s, in_qsize 0, out_qsize 0\n",
      "INFO - 17:21:17: EPOCH 12 - PROGRESS: at 86.53% examples, 115165 words/s, in_qsize 0, out_qsize 0\n",
      "INFO - 17:21:18: EPOCH 12 - PROGRESS: at 90.50% examples, 114958 words/s, in_qsize 0, out_qsize 0\n",
      "INFO - 17:21:19: EPOCH 12 - PROGRESS: at 94.66% examples, 114982 words/s, in_qsize 0, out_qsize 0\n",
      "INFO - 17:21:20: EPOCH 12 - PROGRESS: at 98.87% examples, 114814 words/s, in_qsize 0, out_qsize 0\n",
      "INFO - 17:21:20: worker thread finished; awaiting finish of 2 more threads\n",
      "INFO - 17:21:20: worker thread finished; awaiting finish of 1 more threads\n",
      "INFO - 17:21:20: worker thread finished; awaiting finish of 0 more threads\n",
      "INFO - 17:21:20: EPOCH - 12 : training on 5483050 raw words (2851798 effective words) took 24.8s, 114822 effective words/s\n",
      "INFO - 17:21:21: EPOCH 13 - PROGRESS: at 4.06% examples, 110088 words/s, in_qsize 0, out_qsize 0\n",
      "INFO - 17:21:22: EPOCH 13 - PROGRESS: at 8.19% examples, 113587 words/s, in_qsize 0, out_qsize 0\n",
      "INFO - 17:21:23: EPOCH 13 - PROGRESS: at 12.11% examples, 115090 words/s, in_qsize 0, out_qsize 0\n",
      "INFO - 17:21:24: EPOCH 13 - PROGRESS: at 16.39% examples, 115391 words/s, in_qsize 0, out_qsize 0\n",
      "INFO - 17:21:25: EPOCH 13 - PROGRESS: at 20.39% examples, 114361 words/s, in_qsize 0, out_qsize 0\n",
      "INFO - 17:21:26: EPOCH 13 - PROGRESS: at 24.70% examples, 115064 words/s, in_qsize 0, out_qsize 0\n",
      "INFO - 17:21:27: EPOCH 13 - PROGRESS: at 28.83% examples, 115348 words/s, in_qsize 0, out_qsize 0\n",
      "INFO - 17:21:28: EPOCH 13 - PROGRESS: at 33.04% examples, 115679 words/s, in_qsize 0, out_qsize 0\n",
      "INFO - 17:21:29: EPOCH 13 - PROGRESS: at 37.41% examples, 115525 words/s, in_qsize 0, out_qsize 1\n",
      "INFO - 17:21:30: EPOCH 13 - PROGRESS: at 41.33% examples, 114877 words/s, in_qsize 0, out_qsize 0\n",
      "INFO - 17:21:31: EPOCH 13 - PROGRESS: at 45.45% examples, 115167 words/s, in_qsize 0, out_qsize 0\n",
      "INFO - 17:21:32: EPOCH 13 - PROGRESS: at 49.63% examples, 115285 words/s, in_qsize 0, out_qsize 0\n",
      "INFO - 17:21:33: EPOCH 13 - PROGRESS: at 53.68% examples, 114769 words/s, in_qsize 0, out_qsize 0\n",
      "INFO - 17:21:34: EPOCH 13 - PROGRESS: at 57.87% examples, 114868 words/s, in_qsize 1, out_qsize 0\n",
      "INFO - 17:21:35: EPOCH 13 - PROGRESS: at 61.79% examples, 114541 words/s, in_qsize 0, out_qsize 0\n",
      "INFO - 17:21:36: EPOCH 13 - PROGRESS: at 66.10% examples, 114986 words/s, in_qsize 0, out_qsize 0\n",
      "INFO - 17:21:37: EPOCH 13 - PROGRESS: at 70.30% examples, 115127 words/s, in_qsize 0, out_qsize 0\n",
      "INFO - 17:21:38: EPOCH 13 - PROGRESS: at 74.30% examples, 114944 words/s, in_qsize 0, out_qsize 0\n",
      "INFO - 17:21:40: EPOCH 13 - PROGRESS: at 78.65% examples, 115257 words/s, in_qsize 0, out_qsize 0\n",
      "INFO - 17:21:41: EPOCH 13 - PROGRESS: at 82.51% examples, 114788 words/s, in_qsize 1, out_qsize 0\n",
      "INFO - 17:21:42: EPOCH 13 - PROGRESS: at 86.53% examples, 114903 words/s, in_qsize 0, out_qsize 0\n",
      "INFO - 17:21:43: EPOCH 13 - PROGRESS: at 90.84% examples, 115114 words/s, in_qsize 0, out_qsize 0\n",
      "INFO - 17:21:44: EPOCH 13 - PROGRESS: at 95.19% examples, 115216 words/s, in_qsize 0, out_qsize 0\n",
      "INFO - 17:21:45: EPOCH 13 - PROGRESS: at 99.44% examples, 115286 words/s, in_qsize 0, out_qsize 0\n",
      "INFO - 17:21:45: worker thread finished; awaiting finish of 2 more threads\n",
      "INFO - 17:21:45: worker thread finished; awaiting finish of 1 more threads\n",
      "INFO - 17:21:45: worker thread finished; awaiting finish of 0 more threads\n",
      "INFO - 17:21:45: EPOCH - 13 : training on 5483050 raw words (2851100 effective words) took 24.7s, 115280 effective words/s\n",
      "INFO - 17:21:46: EPOCH 14 - PROGRESS: at 4.06% examples, 111543 words/s, in_qsize 0, out_qsize 0\n",
      "INFO - 17:21:47: EPOCH 14 - PROGRESS: at 8.36% examples, 116189 words/s, in_qsize 0, out_qsize 0\n",
      "INFO - 17:21:48: EPOCH 14 - PROGRESS: at 12.50% examples, 114892 words/s, in_qsize 0, out_qsize 1\n",
      "INFO - 17:21:49: EPOCH 14 - PROGRESS: at 17.11% examples, 117130 words/s, in_qsize 0, out_qsize 0\n",
      "INFO - 17:21:50: EPOCH 14 - PROGRESS: at 20.90% examples, 113979 words/s, in_qsize 0, out_qsize 0\n",
      "INFO - 17:21:51: EPOCH 14 - PROGRESS: at 25.05% examples, 114330 words/s, in_qsize 0, out_qsize 0\n",
      "INFO - 17:21:52: EPOCH 14 - PROGRESS: at 29.22% examples, 114825 words/s, in_qsize 0, out_qsize 0\n",
      "INFO - 17:21:53: EPOCH 14 - PROGRESS: at 33.40% examples, 115236 words/s, in_qsize 0, out_qsize 0\n",
      "INFO - 17:21:54: EPOCH 14 - PROGRESS: at 37.60% examples, 115577 words/s, in_qsize 0, out_qsize 0\n",
      "INFO - 17:21:55: EPOCH 14 - PROGRESS: at 41.49% examples, 115007 words/s, in_qsize 0, out_qsize 0\n",
      "INFO - 17:21:56: EPOCH 14 - PROGRESS: at 45.63% examples, 115233 words/s, in_qsize 0, out_qsize 0\n",
      "INFO - 17:21:57: EPOCH 14 - PROGRESS: at 49.85% examples, 115451 words/s, in_qsize 0, out_qsize 0\n",
      "INFO - 17:21:58: EPOCH 14 - PROGRESS: at 54.06% examples, 115531 words/s, in_qsize 0, out_qsize 0\n",
      "INFO - 17:21:59: EPOCH 14 - PROGRESS: at 58.27% examples, 115766 words/s, in_qsize 0, out_qsize 0\n",
      "INFO - 17:22:00: EPOCH 14 - PROGRESS: at 61.97% examples, 115074 words/s, in_qsize 0, out_qsize 0\n",
      "INFO - 17:22:01: EPOCH 14 - PROGRESS: at 66.10% examples, 115197 words/s, in_qsize 0, out_qsize 0\n",
      "INFO - 17:22:02: EPOCH 14 - PROGRESS: at 70.13% examples, 115081 words/s, in_qsize 0, out_qsize 0\n",
      "INFO - 17:22:03: EPOCH 14 - PROGRESS: at 74.30% examples, 115024 words/s, in_qsize 0, out_qsize 0\n",
      "INFO - 17:22:04: EPOCH 14 - PROGRESS: at 78.47% examples, 115156 words/s, in_qsize 0, out_qsize 0\n",
      "INFO - 17:22:05: EPOCH 14 - PROGRESS: at 82.51% examples, 114990 words/s, in_qsize 0, out_qsize 0\n",
      "INFO - 17:22:06: EPOCH 14 - PROGRESS: at 86.53% examples, 115064 words/s, in_qsize 1, out_qsize 0\n",
      "INFO - 17:22:07: EPOCH 14 - PROGRESS: at 90.67% examples, 115140 words/s, in_qsize 1, out_qsize 0\n",
      "INFO - 17:22:08: EPOCH 14 - PROGRESS: at 94.83% examples, 115285 words/s, in_qsize 0, out_qsize 0\n",
      "INFO - 17:22:09: EPOCH 14 - PROGRESS: at 99.24% examples, 115448 words/s, in_qsize 0, out_qsize 0\n",
      "INFO - 17:22:09: worker thread finished; awaiting finish of 2 more threads\n",
      "INFO - 17:22:09: worker thread finished; awaiting finish of 1 more threads\n",
      "INFO - 17:22:09: worker thread finished; awaiting finish of 0 more threads\n",
      "INFO - 17:22:09: EPOCH - 14 : training on 5483050 raw words (2851098 effective words) took 24.7s, 115629 effective words/s\n",
      "INFO - 17:22:11: EPOCH 15 - PROGRESS: at 3.88% examples, 105431 words/s, in_qsize 0, out_qsize 0\n",
      "INFO - 17:22:12: EPOCH 15 - PROGRESS: at 8.00% examples, 110790 words/s, in_qsize 0, out_qsize 0\n",
      "INFO - 17:22:13: EPOCH 15 - PROGRESS: at 11.93% examples, 112548 words/s, in_qsize 0, out_qsize 0\n",
      "INFO - 17:22:14: EPOCH 15 - PROGRESS: at 16.39% examples, 115089 words/s, in_qsize 0, out_qsize 0\n",
      "INFO - 17:22:15: EPOCH 15 - PROGRESS: at 20.55% examples, 115347 words/s, in_qsize 0, out_qsize 0\n",
      "INFO - 17:22:16: EPOCH 15 - PROGRESS: at 24.51% examples, 114684 words/s, in_qsize 0, out_qsize 0\n",
      "INFO - 17:22:17: EPOCH 15 - PROGRESS: at 28.65% examples, 115042 words/s, in_qsize 0, out_qsize 0\n",
      "INFO - 17:22:18: EPOCH 15 - PROGRESS: at 32.85% examples, 115453 words/s, in_qsize 0, out_qsize 0\n",
      "INFO - 17:22:19: EPOCH 15 - PROGRESS: at 37.05% examples, 115652 words/s, in_qsize 0, out_qsize 0\n",
      "INFO - 17:22:20: EPOCH 15 - PROGRESS: at 40.97% examples, 115357 words/s, in_qsize 0, out_qsize 0\n",
      "INFO - 17:22:21: EPOCH 15 - PROGRESS: at 44.75% examples, 114622 words/s, in_qsize 1, out_qsize 0\n",
      "INFO - 17:22:22: EPOCH 15 - PROGRESS: at 48.93% examples, 114922 words/s, in_qsize 0, out_qsize 0\n",
      "INFO - 17:22:23: EPOCH 15 - PROGRESS: at 53.13% examples, 115046 words/s, in_qsize 0, out_qsize 0\n",
      "INFO - 17:22:24: EPOCH 15 - PROGRESS: at 57.49% examples, 115443 words/s, in_qsize 0, out_qsize 0\n",
      "INFO - 17:22:25: EPOCH 15 - PROGRESS: at 61.79% examples, 115529 words/s, in_qsize 0, out_qsize 0\n",
      "INFO - 17:22:26: EPOCH 15 - PROGRESS: at 65.73% examples, 115358 words/s, in_qsize 0, out_qsize 0\n",
      "INFO - 17:22:27: EPOCH 15 - PROGRESS: at 70.13% examples, 115695 words/s, in_qsize 0, out_qsize 0\n"
     ]
    },
    {
     "name": "stderr",
     "output_type": "stream",
     "text": [
      "INFO - 17:22:28: EPOCH 15 - PROGRESS: at 74.10% examples, 115546 words/s, in_qsize 0, out_qsize 0\n",
      "INFO - 17:22:29: EPOCH 15 - PROGRESS: at 78.47% examples, 115838 words/s, in_qsize 0, out_qsize 0\n",
      "INFO - 17:22:30: EPOCH 15 - PROGRESS: at 82.51% examples, 115547 words/s, in_qsize 0, out_qsize 0\n",
      "INFO - 17:22:31: EPOCH 15 - PROGRESS: at 86.53% examples, 115548 words/s, in_qsize 0, out_qsize 0\n",
      "INFO - 17:22:32: EPOCH 15 - PROGRESS: at 90.67% examples, 115580 words/s, in_qsize 0, out_qsize 0\n",
      "INFO - 17:22:33: EPOCH 15 - PROGRESS: at 94.83% examples, 115570 words/s, in_qsize 0, out_qsize 0\n",
      "INFO - 17:22:34: EPOCH 15 - PROGRESS: at 99.24% examples, 115690 words/s, in_qsize 0, out_qsize 0\n",
      "INFO - 17:22:34: worker thread finished; awaiting finish of 2 more threads\n",
      "INFO - 17:22:34: worker thread finished; awaiting finish of 1 more threads\n",
      "INFO - 17:22:34: worker thread finished; awaiting finish of 0 more threads\n",
      "INFO - 17:22:34: EPOCH - 15 : training on 5483050 raw words (2851731 effective words) took 24.6s, 115877 effective words/s\n",
      "INFO - 17:22:35: EPOCH 16 - PROGRESS: at 3.88% examples, 102677 words/s, in_qsize 0, out_qsize 0\n",
      "INFO - 17:22:36: EPOCH 16 - PROGRESS: at 8.00% examples, 109305 words/s, in_qsize 0, out_qsize 0\n",
      "INFO - 17:22:37: EPOCH 16 - PROGRESS: at 12.11% examples, 112833 words/s, in_qsize 0, out_qsize 0\n",
      "INFO - 17:22:38: EPOCH 16 - PROGRESS: at 16.39% examples, 113712 words/s, in_qsize 0, out_qsize 0\n",
      "INFO - 17:22:39: EPOCH 16 - PROGRESS: at 20.55% examples, 114312 words/s, in_qsize 0, out_qsize 0\n",
      "INFO - 17:22:40: EPOCH 16 - PROGRESS: at 24.31% examples, 113272 words/s, in_qsize 0, out_qsize 0\n",
      "INFO - 17:22:41: EPOCH 16 - PROGRESS: at 28.65% examples, 113874 words/s, in_qsize 0, out_qsize 0\n",
      "INFO - 17:22:42: EPOCH 16 - PROGRESS: at 32.85% examples, 114379 words/s, in_qsize 0, out_qsize 0\n",
      "INFO - 17:22:43: EPOCH 16 - PROGRESS: at 37.05% examples, 114404 words/s, in_qsize 0, out_qsize 0\n",
      "INFO - 17:22:44: EPOCH 16 - PROGRESS: at 41.15% examples, 114691 words/s, in_qsize 0, out_qsize 0\n",
      "INFO - 17:22:45: EPOCH 16 - PROGRESS: at 45.29% examples, 114515 words/s, in_qsize 0, out_qsize 0\n",
      "INFO - 17:22:46: EPOCH 16 - PROGRESS: at 48.40% examples, 111710 words/s, in_qsize 0, out_qsize 0\n",
      "INFO - 17:22:48: EPOCH 16 - PROGRESS: at 51.78% examples, 110289 words/s, in_qsize 0, out_qsize 0\n",
      "INFO - 17:22:49: EPOCH 16 - PROGRESS: at 55.32% examples, 109133 words/s, in_qsize 0, out_qsize 0\n",
      "INFO - 17:22:50: EPOCH 16 - PROGRESS: at 58.98% examples, 108230 words/s, in_qsize 1, out_qsize 0\n",
      "INFO - 17:22:51: EPOCH 16 - PROGRESS: at 61.97% examples, 106912 words/s, in_qsize 0, out_qsize 0\n",
      "INFO - 17:22:52: EPOCH 16 - PROGRESS: at 65.34% examples, 106022 words/s, in_qsize 0, out_qsize 0\n",
      "INFO - 17:22:53: EPOCH 16 - PROGRESS: at 69.36% examples, 106356 words/s, in_qsize 0, out_qsize 0\n",
      "INFO - 17:22:54: EPOCH 16 - PROGRESS: at 73.57% examples, 106891 words/s, in_qsize 0, out_qsize 0\n",
      "INFO - 17:22:55: EPOCH 16 - PROGRESS: at 77.73% examples, 107443 words/s, in_qsize 0, out_qsize 0\n",
      "INFO - 17:22:56: EPOCH 16 - PROGRESS: at 81.59% examples, 107413 words/s, in_qsize 0, out_qsize 0\n",
      "INFO - 17:22:57: EPOCH 16 - PROGRESS: at 85.69% examples, 107826 words/s, in_qsize 0, out_qsize 0\n",
      "INFO - 17:22:58: EPOCH 16 - PROGRESS: at 89.75% examples, 108223 words/s, in_qsize 0, out_qsize 0\n",
      "INFO - 17:22:59: EPOCH 16 - PROGRESS: at 93.91% examples, 108567 words/s, in_qsize 0, out_qsize 0\n",
      "INFO - 17:23:00: EPOCH 16 - PROGRESS: at 97.94% examples, 108680 words/s, in_qsize 0, out_qsize 0\n",
      "INFO - 17:23:00: worker thread finished; awaiting finish of 2 more threads\n",
      "INFO - 17:23:00: worker thread finished; awaiting finish of 1 more threads\n",
      "INFO - 17:23:00: worker thread finished; awaiting finish of 0 more threads\n",
      "INFO - 17:23:00: EPOCH - 16 : training on 5483050 raw words (2850259 effective words) took 26.2s, 108874 effective words/s\n",
      "INFO - 17:23:01: EPOCH 17 - PROGRESS: at 4.06% examples, 111553 words/s, in_qsize 0, out_qsize 0\n",
      "INFO - 17:23:02: EPOCH 17 - PROGRESS: at 8.19% examples, 113411 words/s, in_qsize 1, out_qsize 0\n",
      "INFO - 17:23:03: EPOCH 17 - PROGRESS: at 12.30% examples, 114956 words/s, in_qsize 0, out_qsize 0\n",
      "INFO - 17:23:04: EPOCH 17 - PROGRESS: at 16.75% examples, 116158 words/s, in_qsize 0, out_qsize 0\n",
      "INFO - 17:23:05: EPOCH 17 - PROGRESS: at 20.72% examples, 115145 words/s, in_qsize 0, out_qsize 0\n",
      "INFO - 17:23:06: EPOCH 17 - PROGRESS: at 24.88% examples, 115393 words/s, in_qsize 0, out_qsize 0\n",
      "INFO - 17:23:08: EPOCH 17 - PROGRESS: at 29.22% examples, 115638 words/s, in_qsize 0, out_qsize 0\n",
      "INFO - 17:23:09: EPOCH 17 - PROGRESS: at 33.57% examples, 116664 words/s, in_qsize 0, out_qsize 0\n",
      "INFO - 17:23:10: EPOCH 17 - PROGRESS: at 37.79% examples, 116686 words/s, in_qsize 0, out_qsize 0\n",
      "INFO - 17:23:11: EPOCH 17 - PROGRESS: at 41.49% examples, 115801 words/s, in_qsize 0, out_qsize 0\n",
      "INFO - 17:23:12: EPOCH 17 - PROGRESS: at 45.63% examples, 115853 words/s, in_qsize 0, out_qsize 0\n",
      "INFO - 17:23:13: EPOCH 17 - PROGRESS: at 50.01% examples, 116213 words/s, in_qsize 0, out_qsize 0\n",
      "INFO - 17:23:14: EPOCH 17 - PROGRESS: at 54.25% examples, 116019 words/s, in_qsize 0, out_qsize 1\n",
      "INFO - 17:23:15: EPOCH 17 - PROGRESS: at 58.65% examples, 116313 words/s, in_qsize 0, out_qsize 0\n",
      "INFO - 17:23:16: EPOCH 17 - PROGRESS: at 62.54% examples, 116040 words/s, in_qsize 0, out_qsize 0\n",
      "INFO - 17:23:17: EPOCH 17 - PROGRESS: at 66.66% examples, 115793 words/s, in_qsize 0, out_qsize 0\n",
      "INFO - 17:23:18: EPOCH 17 - PROGRESS: at 71.00% examples, 116064 words/s, in_qsize 0, out_qsize 0\n",
      "INFO - 17:23:19: EPOCH 17 - PROGRESS: at 75.20% examples, 115948 words/s, in_qsize 0, out_qsize 0\n",
      "INFO - 17:23:20: EPOCH 17 - PROGRESS: at 79.59% examples, 116067 words/s, in_qsize 0, out_qsize 0\n",
      "INFO - 17:23:21: EPOCH 17 - PROGRESS: at 83.79% examples, 116037 words/s, in_qsize 0, out_qsize 0\n",
      "INFO - 17:23:22: EPOCH 17 - PROGRESS: at 87.80% examples, 116156 words/s, in_qsize 0, out_qsize 0\n",
      "INFO - 17:23:23: EPOCH 17 - PROGRESS: at 91.96% examples, 116140 words/s, in_qsize 1, out_qsize 0\n",
      "INFO - 17:23:24: EPOCH 17 - PROGRESS: at 96.29% examples, 116304 words/s, in_qsize 0, out_qsize 0\n",
      "INFO - 17:23:25: worker thread finished; awaiting finish of 2 more threads\n",
      "INFO - 17:23:25: worker thread finished; awaiting finish of 1 more threads\n",
      "INFO - 17:23:25: worker thread finished; awaiting finish of 0 more threads\n",
      "INFO - 17:23:25: EPOCH - 17 : training on 5483050 raw words (2850496 effective words) took 24.5s, 116278 effective words/s\n",
      "INFO - 17:23:26: EPOCH 18 - PROGRESS: at 4.06% examples, 110602 words/s, in_qsize 0, out_qsize 0\n",
      "INFO - 17:23:27: EPOCH 18 - PROGRESS: at 8.19% examples, 113855 words/s, in_qsize 0, out_qsize 0\n",
      "INFO - 17:23:28: EPOCH 18 - PROGRESS: at 12.11% examples, 114858 words/s, in_qsize 0, out_qsize 0\n",
      "INFO - 17:23:29: EPOCH 18 - PROGRESS: at 16.39% examples, 115074 words/s, in_qsize 0, out_qsize 0\n",
      "INFO - 17:23:30: EPOCH 18 - PROGRESS: at 20.39% examples, 114076 words/s, in_qsize 0, out_qsize 0\n",
      "INFO - 17:23:31: EPOCH 18 - PROGRESS: at 24.51% examples, 114381 words/s, in_qsize 0, out_qsize 0\n",
      "INFO - 17:23:32: EPOCH 18 - PROGRESS: at 28.83% examples, 115050 words/s, in_qsize 0, out_qsize 0\n",
      "INFO - 17:23:33: EPOCH 18 - PROGRESS: at 33.04% examples, 115364 words/s, in_qsize 0, out_qsize 0\n",
      "INFO - 17:23:34: EPOCH 18 - PROGRESS: at 37.41% examples, 116199 words/s, in_qsize 0, out_qsize 0\n",
      "INFO - 17:23:35: EPOCH 18 - PROGRESS: at 41.33% examples, 115312 words/s, in_qsize 0, out_qsize 0\n",
      "INFO - 17:23:36: EPOCH 18 - PROGRESS: at 45.45% examples, 115507 words/s, in_qsize 0, out_qsize 0\n",
      "INFO - 17:23:37: EPOCH 18 - PROGRESS: at 49.63% examples, 115380 words/s, in_qsize 0, out_qsize 0\n",
      "INFO - 17:23:38: EPOCH 18 - PROGRESS: at 53.86% examples, 115517 words/s, in_qsize 0, out_qsize 0\n",
      "INFO - 17:23:39: EPOCH 18 - PROGRESS: at 58.07% examples, 115595 words/s, in_qsize 0, out_qsize 0\n",
      "INFO - 17:23:40: EPOCH 18 - PROGRESS: at 62.16% examples, 115155 words/s, in_qsize 0, out_qsize 0\n",
      "INFO - 17:23:41: EPOCH 18 - PROGRESS: at 66.30% examples, 115308 words/s, in_qsize 0, out_qsize 0\n",
      "INFO - 17:23:42: EPOCH 18 - PROGRESS: at 70.66% examples, 115363 words/s, in_qsize 1, out_qsize 0\n",
      "INFO - 17:23:43: EPOCH 18 - PROGRESS: at 74.82% examples, 115498 words/s, in_qsize 0, out_qsize 0\n",
      "INFO - 17:23:44: EPOCH 18 - PROGRESS: at 79.04% examples, 115583 words/s, in_qsize 0, out_qsize 0\n"
     ]
    },
    {
     "name": "stderr",
     "output_type": "stream",
     "text": [
      "INFO - 17:23:45: EPOCH 18 - PROGRESS: at 83.08% examples, 115456 words/s, in_qsize 0, out_qsize 0\n",
      "INFO - 17:23:46: EPOCH 18 - PROGRESS: at 87.07% examples, 115513 words/s, in_qsize 0, out_qsize 0\n",
      "INFO - 17:23:47: EPOCH 18 - PROGRESS: at 91.20% examples, 115620 words/s, in_qsize 0, out_qsize 0\n",
      "INFO - 17:23:48: EPOCH 18 - PROGRESS: at 95.19% examples, 115510 words/s, in_qsize 0, out_qsize 0\n",
      "INFO - 17:23:49: EPOCH 18 - PROGRESS: at 99.61% examples, 115705 words/s, in_qsize 0, out_qsize 0\n",
      "INFO - 17:23:49: worker thread finished; awaiting finish of 2 more threads\n",
      "INFO - 17:23:49: worker thread finished; awaiting finish of 1 more threads\n",
      "INFO - 17:23:49: worker thread finished; awaiting finish of 0 more threads\n",
      "INFO - 17:23:49: EPOCH - 18 : training on 5483050 raw words (2850669 effective words) took 24.6s, 115856 effective words/s\n",
      "INFO - 17:23:50: EPOCH 19 - PROGRESS: at 3.69% examples, 99633 words/s, in_qsize 0, out_qsize 0\n",
      "INFO - 17:23:51: EPOCH 19 - PROGRESS: at 7.80% examples, 108775 words/s, in_qsize 0, out_qsize 0\n",
      "INFO - 17:23:52: EPOCH 19 - PROGRESS: at 11.93% examples, 112659 words/s, in_qsize 0, out_qsize 0\n",
      "INFO - 17:23:54: EPOCH 19 - PROGRESS: at 16.21% examples, 112467 words/s, in_qsize 0, out_qsize 0\n",
      "INFO - 17:23:55: EPOCH 19 - PROGRESS: at 20.39% examples, 113673 words/s, in_qsize 0, out_qsize 0\n",
      "INFO - 17:23:56: EPOCH 19 - PROGRESS: at 24.31% examples, 113578 words/s, in_qsize 0, out_qsize 0\n",
      "INFO - 17:23:57: EPOCH 19 - PROGRESS: at 28.47% examples, 113545 words/s, in_qsize 0, out_qsize 0\n",
      "INFO - 17:23:58: EPOCH 19 - PROGRESS: at 32.85% examples, 114180 words/s, in_qsize 0, out_qsize 0\n",
      "INFO - 17:23:59: EPOCH 19 - PROGRESS: at 37.05% examples, 114417 words/s, in_qsize 0, out_qsize 0\n",
      "INFO - 17:24:00: EPOCH 19 - PROGRESS: at 41.15% examples, 114367 words/s, in_qsize 0, out_qsize 0\n",
      "INFO - 17:24:01: EPOCH 19 - PROGRESS: at 45.11% examples, 113997 words/s, in_qsize 0, out_qsize 0\n",
      "INFO - 17:24:02: EPOCH 19 - PROGRESS: at 49.27% examples, 114354 words/s, in_qsize 0, out_qsize 0\n",
      "INFO - 17:24:03: EPOCH 19 - PROGRESS: at 53.31% examples, 114103 words/s, in_qsize 0, out_qsize 1\n",
      "INFO - 17:24:04: EPOCH 19 - PROGRESS: at 57.67% examples, 114506 words/s, in_qsize 0, out_qsize 0\n",
      "INFO - 17:24:05: EPOCH 19 - PROGRESS: at 61.97% examples, 114675 words/s, in_qsize 0, out_qsize 0\n",
      "INFO - 17:24:06: EPOCH 19 - PROGRESS: at 65.92% examples, 114546 words/s, in_qsize 1, out_qsize 0\n",
      "INFO - 17:24:07: EPOCH 19 - PROGRESS: at 70.13% examples, 114648 words/s, in_qsize 0, out_qsize 0\n",
      "INFO - 17:24:08: EPOCH 19 - PROGRESS: at 74.30% examples, 114841 words/s, in_qsize 0, out_qsize 0\n",
      "INFO - 17:24:09: EPOCH 19 - PROGRESS: at 78.65% examples, 115067 words/s, in_qsize 1, out_qsize 0\n",
      "INFO - 17:24:10: EPOCH 19 - PROGRESS: at 82.71% examples, 114720 words/s, in_qsize 1, out_qsize 0\n",
      "INFO - 17:24:11: EPOCH 19 - PROGRESS: at 86.88% examples, 115024 words/s, in_qsize 0, out_qsize 0\n",
      "INFO - 17:24:12: EPOCH 19 - PROGRESS: at 91.03% examples, 115092 words/s, in_qsize 0, out_qsize 0\n",
      "INFO - 17:24:13: EPOCH 19 - PROGRESS: at 95.19% examples, 115087 words/s, in_qsize 0, out_qsize 0\n",
      "INFO - 17:24:14: EPOCH 19 - PROGRESS: at 99.61% examples, 115264 words/s, in_qsize 0, out_qsize 0\n",
      "INFO - 17:24:14: worker thread finished; awaiting finish of 2 more threads\n",
      "INFO - 17:24:14: worker thread finished; awaiting finish of 1 more threads\n",
      "INFO - 17:24:14: worker thread finished; awaiting finish of 0 more threads\n",
      "INFO - 17:24:14: EPOCH - 19 : training on 5483050 raw words (2851268 effective words) took 24.7s, 115405 effective words/s\n",
      "INFO - 17:24:15: EPOCH 20 - PROGRESS: at 3.88% examples, 103461 words/s, in_qsize 0, out_qsize 0\n",
      "INFO - 17:24:16: EPOCH 20 - PROGRESS: at 8.00% examples, 110280 words/s, in_qsize 0, out_qsize 0\n",
      "INFO - 17:24:17: EPOCH 20 - PROGRESS: at 11.93% examples, 111757 words/s, in_qsize 0, out_qsize 0\n",
      "INFO - 17:24:18: EPOCH 20 - PROGRESS: at 16.39% examples, 113902 words/s, in_qsize 0, out_qsize 0\n",
      "INFO - 17:24:19: EPOCH 20 - PROGRESS: at 20.55% examples, 113803 words/s, in_qsize 0, out_qsize 0\n",
      "INFO - 17:24:20: EPOCH 20 - PROGRESS: at 24.31% examples, 112371 words/s, in_qsize 0, out_qsize 0\n",
      "INFO - 17:24:21: EPOCH 20 - PROGRESS: at 28.47% examples, 113004 words/s, in_qsize 0, out_qsize 0\n",
      "INFO - 17:24:22: EPOCH 20 - PROGRESS: at 32.65% examples, 112548 words/s, in_qsize 0, out_qsize 0\n",
      "INFO - 17:24:23: EPOCH 20 - PROGRESS: at 37.05% examples, 113251 words/s, in_qsize 0, out_qsize 0\n",
      "INFO - 17:24:25: EPOCH 20 - PROGRESS: at 41.15% examples, 113554 words/s, in_qsize 0, out_qsize 0\n",
      "INFO - 17:24:26: EPOCH 20 - PROGRESS: at 45.11% examples, 113497 words/s, in_qsize 1, out_qsize 0\n",
      "INFO - 17:24:27: EPOCH 20 - PROGRESS: at 49.27% examples, 113634 words/s, in_qsize 0, out_qsize 0\n",
      "INFO - 17:24:28: EPOCH 20 - PROGRESS: at 53.68% examples, 113970 words/s, in_qsize 0, out_qsize 0\n",
      "INFO - 17:24:29: EPOCH 20 - PROGRESS: at 57.87% examples, 114129 words/s, in_qsize 0, out_qsize 0\n",
      "INFO - 17:24:30: EPOCH 20 - PROGRESS: at 61.97% examples, 114246 words/s, in_qsize 0, out_qsize 0\n",
      "INFO - 17:24:31: EPOCH 20 - PROGRESS: at 65.73% examples, 113887 words/s, in_qsize 0, out_qsize 0\n",
      "INFO - 17:24:32: EPOCH 20 - PROGRESS: at 69.93% examples, 114058 words/s, in_qsize 0, out_qsize 0\n",
      "INFO - 17:24:33: EPOCH 20 - PROGRESS: at 74.10% examples, 114292 words/s, in_qsize 0, out_qsize 0\n",
      "INFO - 17:24:34: EPOCH 20 - PROGRESS: at 78.28% examples, 114228 words/s, in_qsize 0, out_qsize 0\n",
      "INFO - 17:24:35: EPOCH 20 - PROGRESS: at 82.51% examples, 114279 words/s, in_qsize 0, out_qsize 1\n",
      "INFO - 17:24:36: EPOCH 20 - PROGRESS: at 86.38% examples, 114093 words/s, in_qsize 1, out_qsize 0\n",
      "INFO - 17:24:37: EPOCH 20 - PROGRESS: at 90.67% examples, 114341 words/s, in_qsize 0, out_qsize 0\n",
      "INFO - 17:24:38: EPOCH 20 - PROGRESS: at 94.83% examples, 114367 words/s, in_qsize 0, out_qsize 0\n",
      "INFO - 17:24:39: EPOCH 20 - PROGRESS: at 98.87% examples, 114116 words/s, in_qsize 0, out_qsize 1\n",
      "INFO - 17:24:39: worker thread finished; awaiting finish of 2 more threads\n",
      "INFO - 17:24:39: worker thread finished; awaiting finish of 1 more threads\n",
      "INFO - 17:24:39: worker thread finished; awaiting finish of 0 more threads\n",
      "INFO - 17:24:39: EPOCH - 20 : training on 5483050 raw words (2851577 effective words) took 24.9s, 114414 effective words/s\n",
      "INFO - 17:24:39: training on a 109661000 raw words (57020297 effective words) took 521.6s, 109326 effective words/s\n"
     ]
    },
    {
     "data": {
      "text/plain": [
       "(57020297, 109661000)"
      ]
     },
     "execution_count": 31,
     "metadata": {},
     "output_type": "execute_result"
    }
   ],
   "source": [
    "#Treinando o modelo\n",
    "w2v.train(sentences, total_examples=w2v.corpus_count, epochs=20, report_delay=1)"
   ]
  },
  {
   "cell_type": "markdown",
   "metadata": {},
   "source": [
    "## Explorando o modelo\n",
    "Essa parte do projeto é bem livre e pode ser executada de várias maneiras diferentes. A ideia aqui é tentar ver se o modelo consegue captar padrões interessantes com os word vectors que treinamos. Como estamos tratando de um dataset de filmes, achei que seria interessante observar elementos próprios desse universo, como atores, filmes e premiações:"
   ]
  },
  {
   "cell_type": "code",
   "execution_count": 37,
   "metadata": {},
   "outputs": [
    {
     "data": {
      "text/plain": [
       "[('passion_christ', 0.6362588405609131),\n",
       " ('lethal_weapon', 0.576724648475647),\n",
       " ('braveheart', 0.5546208024024963),\n",
       " ('tom_cruise', 0.5230134725570679),\n",
       " ('patriot', 0.5189160108566284),\n",
       " ('jean_claude', 0.48917657136917114),\n",
       " ('total_recall', 0.4686974585056305),\n",
       " ('harvey_keitel', 0.4659520387649536),\n",
       " ('kevin_costner', 0.4655423164367676),\n",
       " ('harrison_ford', 0.46075278520584106)]"
      ]
     },
     "execution_count": 37,
     "metadata": {},
     "output_type": "execute_result"
    }
   ],
   "source": [
    "#procurando o vetor mais similar a \"mel_gibson\"\n",
    "w2v.wv.most_similar(positive=['mel_gibson'])"
   ]
  },
  {
   "cell_type": "markdown",
   "metadata": {},
   "source": [
    "Segundo o nosso modelo, as três palavras mais próximas de \"mel_gibson\" são \"passion_christ\", \"braveheart\" e \"lethal_weapon\". Este resultado é coerente, pois os três são filmes em que Mel Gibson dirigiu ou esteve presente como ator, assim, faz sentido que essas palavras apareçam no mesmo contexto. "
   ]
  },
  {
   "cell_type": "code",
   "execution_count": 33,
   "metadata": {},
   "outputs": [
    {
     "name": "stderr",
     "output_type": "stream",
     "text": [
      "/Users/julia/opt/anaconda3/lib/python3.7/site-packages/gensim/models/keyedvectors.py:895: FutureWarning: arrays to stack must be passed as a \"sequence\" type such as list or tuple. Support for non-sequence iterables such as generators is deprecated as of NumPy 1.16 and will raise an error in the future.\n",
      "  vectors = vstack(self.word_vec(word, use_norm=True) for word in used_words).astype(REAL)\n"
     ]
    },
    {
     "data": {
      "text/plain": [
       "'natalie_portman'"
      ]
     },
     "execution_count": 33,
     "metadata": {},
     "output_type": "execute_result"
    }
   ],
   "source": [
    "w2v.wv.doesnt_match(['tom_cruise', 'brad_pitt', 'natalie_portman', 'leonardo_dicaprio'])"
   ]
  },
  {
   "cell_type": "markdown",
   "metadata": {},
   "source": [
    "Nessa lista de atores, o nosso modelo identificou que a palavra estranha ao conjunto era a atriz \"natalie_portman\"\n",
    "\n",
    "Para computar analogias, iremos utilizar a seguinte função:"
   ]
  },
  {
   "cell_type": "code",
   "execution_count": 34,
   "metadata": {},
   "outputs": [],
   "source": [
    "def analogy(x1, x2, y1):\n",
    "    \"\"\"\n",
    "    Input: x1, x2, y1\n",
    "        x1 = palavra 1\n",
    "        x2 = palavra 2\n",
    "        y1 = palavra 3\n",
    "    Output: x2 - x1 + y1\n",
    "    \n",
    "    Com isso, estamos calculando a seguinte pergunta: Qual palavra que está para y1, da mesma\n",
    "    forma que x1 está para x2?\n",
    "    \"\"\"\n",
    "    result = w2v.wv.most_similar(positive = [y1, x2], negative=[x1])\n",
    "    return result [0][0]"
   ]
  },
  {
   "cell_type": "code",
   "execution_count": 35,
   "metadata": {},
   "outputs": [
    {
     "data": {
      "text/plain": [
       "'queen'"
      ]
     },
     "execution_count": 35,
     "metadata": {},
     "output_type": "execute_result"
    }
   ],
   "source": [
    "#Exemplo canônico com word2vec:\n",
    "analogy('man', 'king', 'woman')"
   ]
  },
  {
   "cell_type": "markdown",
   "metadata": {},
   "source": [
    "Nesse exemplo, a palavra \"man\" está para \"king\", da mesma forma que \"woman\" está para \"queen\"\n",
    "\n",
    "Agora, vamos procurar algum resultado mais iteressante com o tema do nosso dataset:"
   ]
  },
  {
   "cell_type": "code",
   "execution_count": 36,
   "metadata": {},
   "outputs": [
    {
     "data": {
      "text/plain": [
       "'emmy'"
      ]
     },
     "execution_count": 36,
     "metadata": {},
     "output_type": "execute_result"
    }
   ],
   "source": [
    "analogy('movie', 'academy_awards', 'tv')"
   ]
  },
  {
   "cell_type": "markdown",
   "metadata": {},
   "source": [
    "Assim como o Oscar (\"academy_awards\") premia o cinema, o prêmio equivalente para a televisão é o Emmy. Tudo isso foi bem capturado pelo nosso modelo. "
   ]
  },
  {
   "cell_type": "markdown",
   "metadata": {},
   "source": [
    "## *Atividade extra*"
   ]
  },
  {
   "cell_type": "code",
   "execution_count": 18,
   "metadata": {},
   "outputs": [],
   "source": [
    "import numpy as np\n",
    "import matplotlib.pyplot as plt\n",
    "%matplotlib inline\n",
    " \n",
    "import seaborn as sns\n",
    "sns.set_style(\"darkgrid\")\n",
    "\n",
    "from sklearn.decomposition import PCA\n",
    "from sklearn.manifold import TSNE"
   ]
  },
  {
   "cell_type": "code",
   "execution_count": 19,
   "metadata": {},
   "outputs": [],
   "source": [
    "def tsnescatterplot(model, word, list_names):\n",
    "\n",
    "    arrays = np.empty((0, 300), dtype='f')\n",
    "    word_labels = [word]\n",
    "    color_list  = ['red']\n",
    "\n",
    "    # adiciona o vetor da palavra da query\n",
    "    arrays = np.append(arrays, model.wv.__getitem__([word]), axis=0)\n",
    "    \n",
    "    # gera lista com as palavras mais similares \n",
    "    close_words = model.wv.most_similar([word])\n",
    "    \n",
    "    # adiciona os vetores para cada uma das palavras mais próximas no array \n",
    "    for wrd_score in close_words:\n",
    "        wrd_vector = model.wv.__getitem__([wrd_score[0]])\n",
    "        word_labels.append(wrd_score[0])\n",
    "        color_list.append('blue')\n",
    "        arrays = np.append(arrays, wrd_vector, axis=0)\n",
    "    \n",
    "    # adiciona os vetores para cada uma das palavras em list_names no array \n",
    "    for wrd in list_names:\n",
    "        wrd_vector = model.wv.__getitem__([wrd])\n",
    "        word_labels.append(wrd)\n",
    "        color_list.append('green')\n",
    "        arrays = np.append(arrays, wrd_vector, axis=0)\n",
    "        \n",
    "    # Reduz a dimensionalidade de 300 para 10 dimensões com PCA\n",
    "    reduc = PCA(n_components=10).fit_transform(arrays)\n",
    "    \n",
    "    # Acha as coordenadas do t-SNE para 2 dimensões \n",
    "    np.set_printoptions(suppress=True)\n",
    "    \n",
    "    Y = TSNE(n_components=2, random_state=0, perplexity=15).fit_transform(reduc)\n",
    "    \n",
    "    # Arruma tudo para o plot\n",
    "    df = pd.DataFrame({'x': [x for x in Y[:, 0]],\n",
    "                       'y': [y for y in Y[:, 1]],\n",
    "                       'words': word_labels,\n",
    "                       'color': color_list})\n",
    "    \n",
    "    fig, _ = plt.subplots()\n",
    "    fig.set_size_inches(20, 15)\n",
    "    \n",
    "    # Plot básico\n",
    "    p1 = sns.regplot(data=df,\n",
    "                     x=\"x\",\n",
    "                     y=\"y\",\n",
    "                     fit_reg=False,\n",
    "                     marker=\"o\",\n",
    "                     scatter_kws={'s': 40,\n",
    "                                  'facecolors': df['color']\n",
    "                                 }\n",
    "                    )\n",
    "    \n",
    "    # Adiciona anotações uma por uma com um loop\n",
    "    for line in range(0, df.shape[0]):\n",
    "         p1.text(df[\"x\"][line],\n",
    "                 df['y'][line],\n",
    "                 '  ' + df[\"words\"][line].title(),\n",
    "                 horizontalalignment='left',\n",
    "                 verticalalignment='bottom', size='medium',\n",
    "                 color=df['color'][line],\n",
    "                 weight='normal'\n",
    "                ).set_size(15)\n",
    "\n",
    "    \n",
    "    plt.xlim(Y[:, 0].min()-50, Y[:, 0].max()+50)\n",
    "    plt.ylim(Y[:, 1].min()-50, Y[:, 1].max()+50)\n",
    "            \n",
    "    plt.title('t-SNE visualization for {}'.format(word.title()))"
   ]
  },
  {
   "cell_type": "code",
   "execution_count": 20,
   "metadata": {},
   "outputs": [
    {
     "name": "stderr",
     "output_type": "stream",
     "text": [
      "/Users/julia/opt/anaconda3/lib/python3.7/site-packages/gensim/matutils.py:737: FutureWarning: Conversion of the second argument of issubdtype from `int` to `np.signedinteger` is deprecated. In future, it will be treated as `np.int64 == np.dtype(int).type`.\n",
      "  if np.issubdtype(vec.dtype, np.int):\n"
     ]
    },
    {
     "data": {
      "image/png": "[encoded data removed]",
      "text/plain": [
       "<Figure size 1440x1080 with 1 Axes>"
      ]
     },
     "metadata": {},
     "output_type": "display_data"
    }
   ],
   "source": [
    "#10 palavras mais similares VS 10 palavras menos similares\n",
    "tsnescatterplot(w2v, 'oscars', [i[0] for i in w2v.wv.most_similar(negative=[\"oscars\"])])"
   ]
  },
  {
   "cell_type": "code",
   "execution_count": null,
   "metadata": {},
   "outputs": [],
   "source": []
  }
 ],
 "metadata": {
  "kernelspec": {
   "display_name": "Python 3.7.6 64-bit ('base': conda)",
   "language": "python",
   "name": "python37664bitbaseconda57861a77cbd74bdab3b3f15ccf4f3179"
  },
  "language_info": {
   "codemirror_mode": {
    "name": "ipython",
    "version": 3
   },
   "file_extension": ".py",
   "mimetype": "text/x-python",
   "name": "python",
   "nbconvert_exporter": "python",
   "pygments_lexer": "ipython3",
   "version": "3.7.6"
  }
 },
 "nbformat": 4,
 "nbformat_minor": 4
}
